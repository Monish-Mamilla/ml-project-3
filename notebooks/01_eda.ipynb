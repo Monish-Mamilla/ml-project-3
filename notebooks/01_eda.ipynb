{
 "cells": [
  {
   "cell_type": "code",
   "execution_count": null,
   "id": "91f675b0",
   "metadata": {},
   "outputs": [],
   "source": [
    "import pandas as pd\n",
    "import numpy as np\n"
   ]
  },
  {
   "cell_type": "code",
   "execution_count": null,
   "id": "632b1773",
   "metadata": {},
   "outputs": [],
   "source": [
    "df = pd.read_csv(\"../data/raw/survey_results.csv\")\n",
    "print(f\"Shape for Data Frame {df.shape}\")\n",
    "df.head()"
   ]
  },
  {
   "cell_type": "code",
   "execution_count": null,
   "id": "3e5786ad",
   "metadata": {},
   "outputs": [],
   "source": [
    "df.describe()"
   ]
  },
  {
   "cell_type": "code",
   "execution_count": null,
   "id": "4e3f07c7",
   "metadata": {},
   "outputs": [],
   "source": [
    "df.info()"
   ]
  },
  {
   "cell_type": "code",
   "execution_count": null,
   "id": "60a763b0",
   "metadata": {},
   "outputs": [],
   "source": [
    "dupes = df[df.duplicated(subset=[\"respondent_id\"])]\n",
    "dupes.shape\n"
   ]
  },
  {
   "cell_type": "code",
   "execution_count": null,
   "id": "e8ffec5b",
   "metadata": {},
   "outputs": [],
   "source": [
    "dupes"
   ]
  },
  {
   "cell_type": "code",
   "execution_count": null,
   "id": "1c43f35e",
   "metadata": {},
   "outputs": [],
   "source": [
    "df.isna().sum()"
   ]
  },
  {
   "cell_type": "markdown",
   "id": "282c7b16",
   "metadata": {},
   "source": [
    "#### Respondent_id is not null Let me check duplicate on this column."
   ]
  },
  {
   "cell_type": "code",
   "execution_count": null,
   "id": "132defef",
   "metadata": {},
   "outputs": [],
   "source": [
    "duplicate_respondent_Id = df['respondent_id'].duplicated().sum()\n",
    "type(duplicate_respondent_Id)\n",
    "duplicate_respondent_Id"
   ]
  },
  {
   "cell_type": "code",
   "execution_count": null,
   "id": "22c74c44",
   "metadata": {},
   "outputs": [],
   "source": [
    "dupe_ids = df['respondent_id'][df['respondent_id'].duplicated()].unique()\n",
    "print(dupe_ids)\n",
    "\n",
    "dupes = df[df['respondent_id'].isin(dupe_ids)].sort_values('respondent_id')\n",
    "print(dupes)\n"
   ]
  },
  {
   "cell_type": "code",
   "execution_count": null,
   "id": "a0a9ac1f",
   "metadata": {},
   "outputs": [],
   "source": [
    "df = df.drop_duplicates(subset=['respondent_id'], keep='first')\n"
   ]
  },
  {
   "cell_type": "code",
   "execution_count": null,
   "id": "223e5ab7",
   "metadata": {},
   "outputs": [],
   "source": [
    "print(f\"Shape of Data Frame after drop duplicates {df.shape}\")"
   ]
  },
  {
   "cell_type": "markdown",
   "id": "64a183fc",
   "metadata": {},
   "source": [
    "#### Outliter Detection on the Age."
   ]
  },
  {
   "cell_type": "code",
   "execution_count": null,
   "id": "94efee22",
   "metadata": {},
   "outputs": [],
   "source": [
    "df.age.describe()"
   ]
  },
  {
   "cell_type": "code",
   "execution_count": null,
   "id": "21d42554",
   "metadata": {},
   "outputs": [],
   "source": [
    "Q1 = df['age'].quantile(0.25)\n",
    "Q3 = df['age'].quantile(0.75)\n",
    "IQR = Q3 - Q1\n",
    "\n",
    "lower_bound = max(0,Q1 - 1.5 * IQR)\n",
    "upper_bound = Q3 + 1.5 * IQR\n",
    "\n",
    "print(f\"Lower bound: {lower_bound}, Upper bound: {upper_bound}\")\n"
   ]
  },
  {
   "cell_type": "code",
   "execution_count": null,
   "id": "4c8c719b",
   "metadata": {},
   "outputs": [],
   "source": [
    "outliers = df[(df['age'] > upper_bound) | (df['age'] < lower_bound )] \n",
    "print(outliers['age'].value_counts())\n"
   ]
  },
  {
   "cell_type": "code",
   "execution_count": null,
   "id": "e00bd38e",
   "metadata": {},
   "outputs": [],
   "source": [
    "import matplotlib.pyplot as plt\n",
    "\n",
    "plt.boxplot(df['age'])\n",
    "plt.title(\"Age Boxplot\")\n",
    "plt.ylabel(\"Age\")\n",
    "plt.show()\n",
    "\n",
    "df['age'].hist(bins=30)\n",
    "plt.title(\"Age Distribution\")\n",
    "plt.xlabel(\"Age\")\n",
    "plt.ylabel(\"Frequency\")\n",
    "plt.show()\n"
   ]
  },
  {
   "cell_type": "code",
   "execution_count": null,
   "id": "9eb5d646",
   "metadata": {},
   "outputs": [],
   "source": [
    "df.shape"
   ]
  },
  {
   "cell_type": "code",
   "execution_count": null,
   "id": "88464eb1",
   "metadata": {},
   "outputs": [],
   "source": [
    "df_age_above_70 = df[df['age'] > 70]\n",
    "df_age_above_70.shape"
   ]
  },
  {
   "cell_type": "code",
   "execution_count": null,
   "id": "8945dab1",
   "metadata": {},
   "outputs": [],
   "source": [
    "df_clean = df[~(df['age'] >70)]\n",
    "df_clean.shape\n"
   ]
  },
  {
   "cell_type": "code",
   "execution_count": null,
   "id": "75fd0e10",
   "metadata": {},
   "outputs": [],
   "source": [
    "df_clean.isna().sum()"
   ]
  },
  {
   "cell_type": "code",
   "execution_count": null,
   "id": "6491e2fc",
   "metadata": {},
   "outputs": [],
   "source": [
    "mode_consume_frequency = df_clean['consume_frequency(weekly)'].mode()[0]\n",
    "mode_consume_frequency"
   ]
  },
  {
   "cell_type": "code",
   "execution_count": null,
   "id": "37efc502",
   "metadata": {},
   "outputs": [],
   "source": [
    "mode_purchase_channel = df_clean['purchase_channel'].mode()[0]\n",
    "mode_purchase_channel"
   ]
  },
  {
   "cell_type": "code",
   "execution_count": null,
   "id": "ec475236",
   "metadata": {},
   "outputs": [],
   "source": [
    "df_clean['consume_frequency(weekly)']= df_clean['consume_frequency(weekly)'].fillna(mode_consume_frequency)\n"
   ]
  },
  {
   "cell_type": "code",
   "execution_count": null,
   "id": "58e91851",
   "metadata": {},
   "outputs": [],
   "source": [
    "df_clean.isna().sum()"
   ]
  },
  {
   "cell_type": "code",
   "execution_count": null,
   "id": "4acca86b",
   "metadata": {},
   "outputs": [],
   "source": [
    "df_clean['purchase_channel'] = df_clean['purchase_channel'].fillna(mode_purchase_channel)"
   ]
  },
  {
   "cell_type": "code",
   "execution_count": null,
   "id": "50befaf6",
   "metadata": {},
   "outputs": [],
   "source": [
    "df_clean.isna().sum()"
   ]
  },
  {
   "cell_type": "code",
   "execution_count": null,
   "id": "8bb5849e",
   "metadata": {},
   "outputs": [],
   "source": [
    "df_clean['income_levels'] = df_clean['income_levels'].fillna('Not Reported')"
   ]
  },
  {
   "cell_type": "code",
   "execution_count": null,
   "id": "b03b527a",
   "metadata": {},
   "outputs": [],
   "source": [
    "df_clean.isna().sum()"
   ]
  },
  {
   "cell_type": "code",
   "execution_count": null,
   "id": "39fb5da7",
   "metadata": {},
   "outputs": [],
   "source": [
    "df_clean['zone'].unique()"
   ]
  },
  {
   "cell_type": "code",
   "execution_count": null,
   "id": "1557270e",
   "metadata": {},
   "outputs": [],
   "source": [
    "df_clean['current_brand'].unique()"
   ]
  },
  {
   "cell_type": "code",
   "execution_count": null,
   "id": "8e87cfd1",
   "metadata": {},
   "outputs": [],
   "source": [
    "df_clean['zone'].value_counts()"
   ]
  },
  {
   "cell_type": "code",
   "execution_count": null,
   "id": "a124875b",
   "metadata": {},
   "outputs": [],
   "source": [
    "df_clean['current_brand'].value_counts()"
   ]
  },
  {
   "cell_type": "code",
   "execution_count": null,
   "id": "c9d41892",
   "metadata": {},
   "outputs": [],
   "source": [
    "zone_correction = {\n",
    "    \"Metor\":\"Metro\", \"urbna\":\"Urban\"\n",
    "}\n",
    "df_clean['zone'] = df_clean['zone'].replace(zone_correction)"
   ]
  },
  {
   "cell_type": "code",
   "execution_count": null,
   "id": "974d52bc",
   "metadata": {},
   "outputs": [],
   "source": [
    "df_clean['zone'].unique()"
   ]
  },
  {
   "cell_type": "code",
   "execution_count": null,
   "id": "84235ff2",
   "metadata": {},
   "outputs": [],
   "source": [
    "current_brand_correction = {\n",
    "    \"newcomer\":\"Newcomer\", \"Establishd\":\"Established\"\n",
    "}\n",
    "df_clean['current_brand'] = df_clean['current_brand'].replace(current_brand_correction)"
   ]
  },
  {
   "cell_type": "code",
   "execution_count": null,
   "id": "d6f68149",
   "metadata": {},
   "outputs": [],
   "source": [
    "df_clean['current_brand'].unique()"
   ]
  },
  {
   "cell_type": "code",
   "execution_count": null,
   "id": "80a0a019",
   "metadata": {},
   "outputs": [],
   "source": [
    "def assign_age_group(age):\n",
    "\n",
    "    if 18 <= age <=25 :\n",
    "        return \"18-25\"\n",
    "    elif 26 <= age <= 35 :\n",
    "        return \"26-35\"\n",
    "    elif 36 <= age <=45 :\n",
    "        return \"36-45\"\n",
    "    elif 46 <= age <= 55 :\n",
    "        return \"46-55\"\n",
    "    elif 56 <= age <=70:\n",
    "        return \"56-70\"\n",
    "    else:\n",
    "        return \"70+\"\n",
    "\n",
    "# Apply function\n",
    "df_clean['age_group'] = df_clean['age'].apply(assign_age_group)\n",
    "\n",
    "cat_order = [\"18-25\",\"26-35\",\"36-45\",\"46-55\",\"56-70\",\"70+\"]\n",
    "\n",
    "df_clean[\"age_group\"] = pd.Categorical(df_clean['age_group'],\n",
    "                                       categories=cat_order,ordered=True)"
   ]
  },
  {
   "cell_type": "code",
   "execution_count": null,
   "id": "f8cda2a8",
   "metadata": {},
   "outputs": [],
   "source": [
    "\n",
    "df_clean = df_clean.drop(columns=['age'])"
   ]
  },
  {
   "cell_type": "code",
   "execution_count": null,
   "id": "f1e0ecf9",
   "metadata": {},
   "outputs": [],
   "source": [
    "df_clean.info()"
   ]
  },
  {
   "cell_type": "code",
   "execution_count": null,
   "id": "48e80aee",
   "metadata": {},
   "outputs": [],
   "source": [
    "freq_map = {\n",
    "    \"0-2 times\":1,\n",
    "    \"3-4 times\":2,\n",
    "    \"5-7 times\":3\n",
    "}\n",
    "\n",
    "aware_map = {\n",
    "    \"0 to 1\": 1,\n",
    "    \"2 to 4\":2,\n",
    "    \"above 4\":3\n",
    "}\n",
    "\n",
    "def calculate_cf_ab(row):\n",
    "    f = freq_map.get(row['consume_frequency(weekly)'], 0)   # default 0 if not found\n",
    "    a = aware_map.get(row['awareness_of_other_brands'], 0)\n",
    "    \n",
    "    if a == 0:   # prevent division by zero\n",
    "        return None\n",
    "    \n",
    "    score = f / (a + f)\n",
    "    return round(score, 2)\n",
    "\n",
    "\n",
    "df_clean['cf_ab_score'] = df_clean.apply(calculate_cf_ab, axis=1)"
   ]
  },
  {
   "cell_type": "code",
   "execution_count": null,
   "id": "37dedb94",
   "metadata": {},
   "outputs": [],
   "source": [
    "df_clean['cf_ab_score'].describe()"
   ]
  },
  {
   "cell_type": "code",
   "execution_count": null,
   "id": "32b0f370",
   "metadata": {},
   "outputs": [],
   "source": [
    "zone_map = {\n",
    "    \"Urban\": 3, \"Metro\": 4,\"Rural\": 1,\"Semi-Urban\": 2\n",
    "}\n",
    "\n",
    "income_level_map = {\n",
    "     \"<10L\": 1,\"10L - 15L\": 2,\"16L - 25L\": 3, \"26L - 35L\": 4,\"> 35L\": 5,\"Not Reported\": 0\n",
    "}\n",
    "\n",
    "def calculate_zas_score(row):\n",
    "\n",
    "    zone_score = zone_map.get(row['zone'],1)\n",
    "    \n",
    "    income_score = income_level_map.get(row['income_levels'],1)\n",
    "\n",
    "    zas_score = zone_score * income_score\n",
    "\n",
    "    return zas_score"
   ]
  },
  {
   "cell_type": "code",
   "execution_count": null,
   "id": "8f2b6971",
   "metadata": {},
   "outputs": [],
   "source": [
    "df_clean['zas_score'] = df_clean.apply(calculate_zas_score,axis=1)"
   ]
  },
  {
   "cell_type": "code",
   "execution_count": null,
   "id": "d7f41672",
   "metadata": {},
   "outputs": [],
   "source": [
    "# (1) Optional: make key text columns categorical to save memory & speed comparisons\n",
    "cat_cols = ['current_brand', 'reasons_for_choosing_brands']\n",
    "for c in cat_cols:\n",
    "    df_clean[c] = df_clean[c].astype('category')\n",
    "\n",
    "# (2) Vectorized binary indicator:\n",
    "# bsi = 1 if current_brand != \"Established\" AND reason in {\"Price\",\"Quality\"}\n",
    "mask = (\n",
    "    (df_clean['current_brand'] != \"Established\") &\n",
    "    (df_clean['reasons_for_choosing_brands'].isin([\"Price\", \"Quality\"]))\n",
    ")\n",
    "df_clean['bsi'] = mask.astype('int8')   # int8 saves memory vs int64\n"
   ]
  },
  {
   "cell_type": "code",
   "execution_count": null,
   "id": "82b9086d",
   "metadata": {},
   "outputs": [],
   "source": [
    "df_clean['age_group'].value_counts()"
   ]
  },
  {
   "cell_type": "code",
   "execution_count": null,
   "id": "56171606",
   "metadata": {},
   "outputs": [],
   "source": [
    "import pandas as pd\n",
    "\n",
    "pd.crosstab(df_clean['age_group'], df_clean['occupation'])\n"
   ]
  },
  {
   "cell_type": "code",
   "execution_count": null,
   "id": "59deb4ef",
   "metadata": {},
   "outputs": [],
   "source": [
    "df_clean = df_clean[~((df_clean['age_group'] == '56-70') & \n",
    "                      (df_clean['occupation'] == 'Student'))]\n"
   ]
  },
  {
   "cell_type": "code",
   "execution_count": null,
   "id": "9afffef8",
   "metadata": {},
   "outputs": [],
   "source": [
    "pd.crosstab(df_clean['age_group'], df_clean['occupation'])"
   ]
  },
  {
   "cell_type": "code",
   "execution_count": null,
   "id": "9ebe78d2",
   "metadata": {},
   "outputs": [],
   "source": [
    "df_clean.info()"
   ]
  },
  {
   "cell_type": "code",
   "execution_count": null,
   "id": "45d20046",
   "metadata": {},
   "outputs": [],
   "source": [
    "df_clean['cf_ab_score'].describe()"
   ]
  },
  {
   "cell_type": "code",
   "execution_count": null,
   "id": "13da08da",
   "metadata": {},
   "outputs": [],
   "source": [
    "unique_record = df_clean['zas_score'].unique()\n",
    "unique_record.size"
   ]
  },
  {
   "cell_type": "code",
   "execution_count": null,
   "id": "bb96d424",
   "metadata": {},
   "outputs": [],
   "source": [
    "rows = df_clean.shape[0]   # gives row count only\n",
    "print(rows) "
   ]
  },
  {
   "cell_type": "code",
   "execution_count": null,
   "id": "11f1ea4d",
   "metadata": {},
   "outputs": [],
   "source": [
    "rows = len(df_clean)\n",
    "print(rows)\n"
   ]
  },
  {
   "cell_type": "code",
   "execution_count": null,
   "id": "962e49e1",
   "metadata": {},
   "outputs": [],
   "source": [
    "df_bsi_zero = df_clean[df_clean['bsi'] == 0]\n",
    "df_bsi_zero.shape[0]"
   ]
  },
  {
   "cell_type": "code",
   "execution_count": null,
   "id": "5b1abe6e",
   "metadata": {},
   "outputs": [],
   "source": [
    "df_clean.head()"
   ]
  },
  {
   "cell_type": "code",
   "execution_count": null,
   "id": "74d55695",
   "metadata": {},
   "outputs": [],
   "source": [
    "df_clean.info()"
   ]
  },
  {
   "cell_type": "code",
   "execution_count": null,
   "id": "0ff7f3be",
   "metadata": {},
   "outputs": [],
   "source": [
    "df_clean.to_csv(\"../data/survey_cleaned.csv\", index=False)"
   ]
  }
 ],
 "metadata": {
  "kernelspec": {
   "display_name": ".venv",
   "language": "python",
   "name": "python3"
  },
  "language_info": {
   "codemirror_mode": {
    "name": "ipython",
    "version": 3
   },
   "file_extension": ".py",
   "mimetype": "text/x-python",
   "name": "python",
   "nbconvert_exporter": "python",
   "pygments_lexer": "ipython3",
   "version": "3.11.9"
  }
 },
 "nbformat": 4,
 "nbformat_minor": 5
}

{
 "cells": [
  {
   "cell_type": "code",
   "execution_count": 1,
   "id": "91f675b0",
   "metadata": {},
   "outputs": [],
   "source": [
    "import pandas as pd\n",
    "import numpy as np\n"
   ]
  },
  {
   "cell_type": "code",
   "execution_count": null,
   "id": "632b1773",
   "metadata": {},
   "outputs": [
    {
     "name": "stdout",
     "output_type": "stream",
     "text": [
      "Shape for Data Frame (30010, 17)\n"
     ]
    },
    {
     "data": {
      "text/html": [
       "<div>\n",
       "<style scoped>\n",
       "    .dataframe tbody tr th:only-of-type {\n",
       "        vertical-align: middle;\n",
       "    }\n",
       "\n",
       "    .dataframe tbody tr th {\n",
       "        vertical-align: top;\n",
       "    }\n",
       "\n",
       "    .dataframe thead th {\n",
       "        text-align: right;\n",
       "    }\n",
       "</style>\n",
       "<table border=\"1\" class=\"dataframe\">\n",
       "  <thead>\n",
       "    <tr style=\"text-align: right;\">\n",
       "      <th></th>\n",
       "      <th>respondent_id</th>\n",
       "      <th>age</th>\n",
       "      <th>gender</th>\n",
       "      <th>zone</th>\n",
       "      <th>occupation</th>\n",
       "      <th>income_levels</th>\n",
       "      <th>consume_frequency(weekly)</th>\n",
       "      <th>current_brand</th>\n",
       "      <th>preferable_consumption_size</th>\n",
       "      <th>awareness_of_other_brands</th>\n",
       "      <th>reasons_for_choosing_brands</th>\n",
       "      <th>flavor_preference</th>\n",
       "      <th>purchase_channel</th>\n",
       "      <th>packaging_preference</th>\n",
       "      <th>health_concerns</th>\n",
       "      <th>typical_consumption_situations</th>\n",
       "      <th>price_range</th>\n",
       "    </tr>\n",
       "  </thead>\n",
       "  <tbody>\n",
       "    <tr>\n",
       "      <th>0</th>\n",
       "      <td>R00001</td>\n",
       "      <td>30</td>\n",
       "      <td>M</td>\n",
       "      <td>Urban</td>\n",
       "      <td>Working Professional</td>\n",
       "      <td>&lt;10L</td>\n",
       "      <td>3-4 times</td>\n",
       "      <td>Newcomer</td>\n",
       "      <td>Medium (500 ml)</td>\n",
       "      <td>0 to 1</td>\n",
       "      <td>Price</td>\n",
       "      <td>Traditional</td>\n",
       "      <td>Online</td>\n",
       "      <td>Simple</td>\n",
       "      <td>Medium (Moderately health-conscious)</td>\n",
       "      <td>Active (eg. Sports, gym)</td>\n",
       "      <td>100-150</td>\n",
       "    </tr>\n",
       "    <tr>\n",
       "      <th>1</th>\n",
       "      <td>R00002</td>\n",
       "      <td>46</td>\n",
       "      <td>F</td>\n",
       "      <td>Metro</td>\n",
       "      <td>Working Professional</td>\n",
       "      <td>&gt; 35L</td>\n",
       "      <td>5-7 times</td>\n",
       "      <td>Established</td>\n",
       "      <td>Medium (500 ml)</td>\n",
       "      <td>2 to 4</td>\n",
       "      <td>Quality</td>\n",
       "      <td>Exotic</td>\n",
       "      <td>Retail Store</td>\n",
       "      <td>Premium</td>\n",
       "      <td>Medium (Moderately health-conscious)</td>\n",
       "      <td>Social (eg. Parties)</td>\n",
       "      <td>200-250</td>\n",
       "    </tr>\n",
       "    <tr>\n",
       "      <th>2</th>\n",
       "      <td>R00003</td>\n",
       "      <td>41</td>\n",
       "      <td>F</td>\n",
       "      <td>Rural</td>\n",
       "      <td>Working Professional</td>\n",
       "      <td>&gt; 35L</td>\n",
       "      <td>3-4 times</td>\n",
       "      <td>Newcomer</td>\n",
       "      <td>Medium (500 ml)</td>\n",
       "      <td>2 to 4</td>\n",
       "      <td>Availability</td>\n",
       "      <td>Traditional</td>\n",
       "      <td>Retail Store</td>\n",
       "      <td>Premium</td>\n",
       "      <td>Medium (Moderately health-conscious)</td>\n",
       "      <td>Active (eg. Sports, gym)</td>\n",
       "      <td>200-250</td>\n",
       "    </tr>\n",
       "    <tr>\n",
       "      <th>3</th>\n",
       "      <td>R00004</td>\n",
       "      <td>33</td>\n",
       "      <td>F</td>\n",
       "      <td>Urban</td>\n",
       "      <td>Working Professional</td>\n",
       "      <td>16L - 25L</td>\n",
       "      <td>5-7 times</td>\n",
       "      <td>Newcomer</td>\n",
       "      <td>Medium (500 ml)</td>\n",
       "      <td>0 to 1</td>\n",
       "      <td>Brand Reputation</td>\n",
       "      <td>Exotic</td>\n",
       "      <td>Online</td>\n",
       "      <td>Eco-Friendly</td>\n",
       "      <td>Low (Not very concerned)</td>\n",
       "      <td>Active (eg. Sports, gym)</td>\n",
       "      <td>150-200</td>\n",
       "    </tr>\n",
       "    <tr>\n",
       "      <th>4</th>\n",
       "      <td>R00005</td>\n",
       "      <td>23</td>\n",
       "      <td>M</td>\n",
       "      <td>Metro</td>\n",
       "      <td>Student</td>\n",
       "      <td>NaN</td>\n",
       "      <td>3-4 times</td>\n",
       "      <td>Established</td>\n",
       "      <td>Medium (500 ml)</td>\n",
       "      <td>0 to 1</td>\n",
       "      <td>Availability</td>\n",
       "      <td>Traditional</td>\n",
       "      <td>Online</td>\n",
       "      <td>Premium</td>\n",
       "      <td>Medium (Moderately health-conscious)</td>\n",
       "      <td>Active (eg. Sports, gym)</td>\n",
       "      <td>50-100</td>\n",
       "    </tr>\n",
       "  </tbody>\n",
       "</table>\n",
       "</div>"
      ],
      "text/plain": [
       "  respondent_id  age gender   zone            occupation income_levels  \\\n",
       "0        R00001   30      M  Urban  Working Professional          <10L   \n",
       "1        R00002   46      F  Metro  Working Professional         > 35L   \n",
       "2        R00003   41      F  Rural  Working Professional         > 35L   \n",
       "3        R00004   33      F  Urban  Working Professional     16L - 25L   \n",
       "4        R00005   23      M  Metro               Student           NaN   \n",
       "\n",
       "  consume_frequency(weekly) current_brand preferable_consumption_size  \\\n",
       "0                 3-4 times      Newcomer             Medium (500 ml)   \n",
       "1                 5-7 times   Established             Medium (500 ml)   \n",
       "2                 3-4 times      Newcomer             Medium (500 ml)   \n",
       "3                 5-7 times      Newcomer             Medium (500 ml)   \n",
       "4                 3-4 times   Established             Medium (500 ml)   \n",
       "\n",
       "  awareness_of_other_brands reasons_for_choosing_brands flavor_preference  \\\n",
       "0                    0 to 1                       Price       Traditional   \n",
       "1                    2 to 4                     Quality            Exotic   \n",
       "2                    2 to 4                Availability       Traditional   \n",
       "3                    0 to 1            Brand Reputation            Exotic   \n",
       "4                    0 to 1                Availability       Traditional   \n",
       "\n",
       "  purchase_channel packaging_preference                       health_concerns  \\\n",
       "0           Online               Simple  Medium (Moderately health-conscious)   \n",
       "1     Retail Store              Premium  Medium (Moderately health-conscious)   \n",
       "2     Retail Store              Premium  Medium (Moderately health-conscious)   \n",
       "3           Online         Eco-Friendly              Low (Not very concerned)   \n",
       "4           Online              Premium  Medium (Moderately health-conscious)   \n",
       "\n",
       "  typical_consumption_situations price_range  \n",
       "0       Active (eg. Sports, gym)     100-150  \n",
       "1           Social (eg. Parties)     200-250  \n",
       "2       Active (eg. Sports, gym)     200-250  \n",
       "3       Active (eg. Sports, gym)     150-200  \n",
       "4       Active (eg. Sports, gym)      50-100  "
      ]
     },
     "execution_count": 2,
     "metadata": {},
     "output_type": "execute_result"
    }
   ],
   "source": [
    "df = pd.read_csv(\"../data/raw/survey_results.csv\")\n",
    "print(f\"Shape for Data Frame {df.shape}\")\n",
    "df.head()"
   ]
  },
  {
   "cell_type": "code",
   "execution_count": 3,
   "id": "3e5786ad",
   "metadata": {},
   "outputs": [
    {
     "data": {
      "text/html": [
       "<div>\n",
       "<style scoped>\n",
       "    .dataframe tbody tr th:only-of-type {\n",
       "        vertical-align: middle;\n",
       "    }\n",
       "\n",
       "    .dataframe tbody tr th {\n",
       "        vertical-align: top;\n",
       "    }\n",
       "\n",
       "    .dataframe thead th {\n",
       "        text-align: right;\n",
       "    }\n",
       "</style>\n",
       "<table border=\"1\" class=\"dataframe\">\n",
       "  <thead>\n",
       "    <tr style=\"text-align: right;\">\n",
       "      <th></th>\n",
       "      <th>age</th>\n",
       "    </tr>\n",
       "  </thead>\n",
       "  <tbody>\n",
       "    <tr>\n",
       "      <th>count</th>\n",
       "      <td>30010.000000</td>\n",
       "    </tr>\n",
       "    <tr>\n",
       "      <th>mean</th>\n",
       "      <td>33.047684</td>\n",
       "    </tr>\n",
       "    <tr>\n",
       "      <th>std</th>\n",
       "      <td>13.439250</td>\n",
       "    </tr>\n",
       "    <tr>\n",
       "      <th>min</th>\n",
       "      <td>18.000000</td>\n",
       "    </tr>\n",
       "    <tr>\n",
       "      <th>25%</th>\n",
       "      <td>23.000000</td>\n",
       "    </tr>\n",
       "    <tr>\n",
       "      <th>50%</th>\n",
       "      <td>31.000000</td>\n",
       "    </tr>\n",
       "    <tr>\n",
       "      <th>75%</th>\n",
       "      <td>40.000000</td>\n",
       "    </tr>\n",
       "    <tr>\n",
       "      <th>max</th>\n",
       "      <td>604.000000</td>\n",
       "    </tr>\n",
       "  </tbody>\n",
       "</table>\n",
       "</div>"
      ],
      "text/plain": [
       "                age\n",
       "count  30010.000000\n",
       "mean      33.047684\n",
       "std       13.439250\n",
       "min       18.000000\n",
       "25%       23.000000\n",
       "50%       31.000000\n",
       "75%       40.000000\n",
       "max      604.000000"
      ]
     },
     "execution_count": 3,
     "metadata": {},
     "output_type": "execute_result"
    }
   ],
   "source": [
    "df.describe()"
   ]
  },
  {
   "cell_type": "code",
   "execution_count": 4,
   "id": "4e3f07c7",
   "metadata": {},
   "outputs": [
    {
     "name": "stdout",
     "output_type": "stream",
     "text": [
      "<class 'pandas.core.frame.DataFrame'>\n",
      "RangeIndex: 30010 entries, 0 to 30009\n",
      "Data columns (total 17 columns):\n",
      " #   Column                          Non-Null Count  Dtype \n",
      "---  ------                          --------------  ----- \n",
      " 0   respondent_id                   30010 non-null  object\n",
      " 1   age                             30010 non-null  int64 \n",
      " 2   gender                          30010 non-null  object\n",
      " 3   zone                            30010 non-null  object\n",
      " 4   occupation                      30010 non-null  object\n",
      " 5   income_levels                   21946 non-null  object\n",
      " 6   consume_frequency(weekly)       30002 non-null  object\n",
      " 7   current_brand                   30010 non-null  object\n",
      " 8   preferable_consumption_size     30010 non-null  object\n",
      " 9   awareness_of_other_brands       30010 non-null  object\n",
      " 10  reasons_for_choosing_brands     30010 non-null  object\n",
      " 11  flavor_preference               30010 non-null  object\n",
      " 12  purchase_channel                30000 non-null  object\n",
      " 13  packaging_preference            30010 non-null  object\n",
      " 14  health_concerns                 30010 non-null  object\n",
      " 15  typical_consumption_situations  30010 non-null  object\n",
      " 16  price_range                     30010 non-null  object\n",
      "dtypes: int64(1), object(16)\n",
      "memory usage: 3.9+ MB\n"
     ]
    }
   ],
   "source": [
    "df.info()"
   ]
  },
  {
   "cell_type": "code",
   "execution_count": 5,
   "id": "60a763b0",
   "metadata": {},
   "outputs": [
    {
     "data": {
      "text/plain": [
       "(10, 17)"
      ]
     },
     "execution_count": 5,
     "metadata": {},
     "output_type": "execute_result"
    }
   ],
   "source": [
    "dupes = df[df.duplicated(subset=[\"respondent_id\"])]\n",
    "dupes.shape\n"
   ]
  },
  {
   "cell_type": "code",
   "execution_count": 6,
   "id": "e8ffec5b",
   "metadata": {},
   "outputs": [
    {
     "data": {
      "text/html": [
       "<div>\n",
       "<style scoped>\n",
       "    .dataframe tbody tr th:only-of-type {\n",
       "        vertical-align: middle;\n",
       "    }\n",
       "\n",
       "    .dataframe tbody tr th {\n",
       "        vertical-align: top;\n",
       "    }\n",
       "\n",
       "    .dataframe thead th {\n",
       "        text-align: right;\n",
       "    }\n",
       "</style>\n",
       "<table border=\"1\" class=\"dataframe\">\n",
       "  <thead>\n",
       "    <tr style=\"text-align: right;\">\n",
       "      <th></th>\n",
       "      <th>respondent_id</th>\n",
       "      <th>age</th>\n",
       "      <th>gender</th>\n",
       "      <th>zone</th>\n",
       "      <th>occupation</th>\n",
       "      <th>income_levels</th>\n",
       "      <th>consume_frequency(weekly)</th>\n",
       "      <th>current_brand</th>\n",
       "      <th>preferable_consumption_size</th>\n",
       "      <th>awareness_of_other_brands</th>\n",
       "      <th>reasons_for_choosing_brands</th>\n",
       "      <th>flavor_preference</th>\n",
       "      <th>purchase_channel</th>\n",
       "      <th>packaging_preference</th>\n",
       "      <th>health_concerns</th>\n",
       "      <th>typical_consumption_situations</th>\n",
       "      <th>price_range</th>\n",
       "    </tr>\n",
       "  </thead>\n",
       "  <tbody>\n",
       "    <tr>\n",
       "      <th>2309</th>\n",
       "      <td>R02309</td>\n",
       "      <td>27</td>\n",
       "      <td>M</td>\n",
       "      <td>Urban</td>\n",
       "      <td>Working Professional</td>\n",
       "      <td>16L - 25L</td>\n",
       "      <td>3-4 times</td>\n",
       "      <td>Newcomer</td>\n",
       "      <td>Small (250 ml)</td>\n",
       "      <td>2 to 4</td>\n",
       "      <td>Brand Reputation</td>\n",
       "      <td>Traditional</td>\n",
       "      <td>Online</td>\n",
       "      <td>Simple</td>\n",
       "      <td>Medium (Moderately health-conscious)</td>\n",
       "      <td>Social (eg. Parties)</td>\n",
       "      <td>150-200</td>\n",
       "    </tr>\n",
       "    <tr>\n",
       "      <th>2666</th>\n",
       "      <td>R02665</td>\n",
       "      <td>61</td>\n",
       "      <td>M</td>\n",
       "      <td>Metro</td>\n",
       "      <td>Entrepreneur</td>\n",
       "      <td>16L - 25L</td>\n",
       "      <td>3-4 times</td>\n",
       "      <td>Established</td>\n",
       "      <td>Medium (500 ml)</td>\n",
       "      <td>above 4</td>\n",
       "      <td>Brand Reputation</td>\n",
       "      <td>Exotic</td>\n",
       "      <td>Retail Store</td>\n",
       "      <td>Simple</td>\n",
       "      <td>High (Very health-conscious)</td>\n",
       "      <td>Active (eg. Sports, gym)</td>\n",
       "      <td>200-250</td>\n",
       "    </tr>\n",
       "    <tr>\n",
       "      <th>5151</th>\n",
       "      <td>R05149</td>\n",
       "      <td>21</td>\n",
       "      <td>M</td>\n",
       "      <td>Semi-Urban</td>\n",
       "      <td>Student</td>\n",
       "      <td>NaN</td>\n",
       "      <td>3-4 times</td>\n",
       "      <td>Established</td>\n",
       "      <td>Small (250 ml)</td>\n",
       "      <td>2 to 4</td>\n",
       "      <td>Availability</td>\n",
       "      <td>Traditional</td>\n",
       "      <td>Retail Store</td>\n",
       "      <td>Simple</td>\n",
       "      <td>Low (Not very concerned)</td>\n",
       "      <td>Active (eg. Sports, gym)</td>\n",
       "      <td>50-100</td>\n",
       "    </tr>\n",
       "    <tr>\n",
       "      <th>7794</th>\n",
       "      <td>R07791</td>\n",
       "      <td>25</td>\n",
       "      <td>M</td>\n",
       "      <td>Metro</td>\n",
       "      <td>Working Professional</td>\n",
       "      <td>&lt;10L</td>\n",
       "      <td>3-4 times</td>\n",
       "      <td>Newcomer</td>\n",
       "      <td>Medium (500 ml)</td>\n",
       "      <td>2 to 4</td>\n",
       "      <td>Availability</td>\n",
       "      <td>Exotic</td>\n",
       "      <td>Online</td>\n",
       "      <td>Simple</td>\n",
       "      <td>Medium (Moderately health-conscious)</td>\n",
       "      <td>Casual (eg. At home)</td>\n",
       "      <td>100-150</td>\n",
       "    </tr>\n",
       "    <tr>\n",
       "      <th>8516</th>\n",
       "      <td>R08512</td>\n",
       "      <td>20</td>\n",
       "      <td>F</td>\n",
       "      <td>Metro</td>\n",
       "      <td>Student</td>\n",
       "      <td>NaN</td>\n",
       "      <td>5-7 times</td>\n",
       "      <td>Established</td>\n",
       "      <td>Large (1 L)</td>\n",
       "      <td>0 to 1</td>\n",
       "      <td>Price</td>\n",
       "      <td>Exotic</td>\n",
       "      <td>Online</td>\n",
       "      <td>Simple</td>\n",
       "      <td>Medium (Moderately health-conscious)</td>\n",
       "      <td>Casual (eg. At home)</td>\n",
       "      <td>100-150</td>\n",
       "    </tr>\n",
       "    <tr>\n",
       "      <th>11317</th>\n",
       "      <td>R11312</td>\n",
       "      <td>18</td>\n",
       "      <td>F</td>\n",
       "      <td>Urban</td>\n",
       "      <td>Student</td>\n",
       "      <td>NaN</td>\n",
       "      <td>0-2 times</td>\n",
       "      <td>Newcomer</td>\n",
       "      <td>Medium (500 ml)</td>\n",
       "      <td>2 to 4</td>\n",
       "      <td>Availability</td>\n",
       "      <td>Exotic</td>\n",
       "      <td>Online</td>\n",
       "      <td>Premium</td>\n",
       "      <td>Medium (Moderately health-conscious)</td>\n",
       "      <td>Social (eg. Parties)</td>\n",
       "      <td>100-150</td>\n",
       "    </tr>\n",
       "    <tr>\n",
       "      <th>19050</th>\n",
       "      <td>R19044</td>\n",
       "      <td>57</td>\n",
       "      <td>M</td>\n",
       "      <td>Semi-Urban</td>\n",
       "      <td>Retired</td>\n",
       "      <td>&lt;10L</td>\n",
       "      <td>3-4 times</td>\n",
       "      <td>Newcomer</td>\n",
       "      <td>Large (1 L)</td>\n",
       "      <td>2 to 4</td>\n",
       "      <td>Price</td>\n",
       "      <td>Traditional</td>\n",
       "      <td>Retail Store</td>\n",
       "      <td>Premium</td>\n",
       "      <td>High (Very health-conscious)</td>\n",
       "      <td>Social (eg. Parties)</td>\n",
       "      <td>150-200</td>\n",
       "    </tr>\n",
       "    <tr>\n",
       "      <th>22412</th>\n",
       "      <td>R22405</td>\n",
       "      <td>26</td>\n",
       "      <td>M</td>\n",
       "      <td>Metro</td>\n",
       "      <td>Working Professional</td>\n",
       "      <td>16L - 25L</td>\n",
       "      <td>0-2 times</td>\n",
       "      <td>Newcomer</td>\n",
       "      <td>Small (250 ml)</td>\n",
       "      <td>0 to 1</td>\n",
       "      <td>Price</td>\n",
       "      <td>Exotic</td>\n",
       "      <td>Online</td>\n",
       "      <td>Premium</td>\n",
       "      <td>Low (Not very concerned)</td>\n",
       "      <td>Active (eg. Sports, gym)</td>\n",
       "      <td>150-200</td>\n",
       "    </tr>\n",
       "    <tr>\n",
       "      <th>23406</th>\n",
       "      <td>R23398</td>\n",
       "      <td>27</td>\n",
       "      <td>M</td>\n",
       "      <td>Urban</td>\n",
       "      <td>Working Professional</td>\n",
       "      <td>10L - 15L</td>\n",
       "      <td>5-7 times</td>\n",
       "      <td>Newcomer</td>\n",
       "      <td>Large (1 L)</td>\n",
       "      <td>above 4</td>\n",
       "      <td>Availability</td>\n",
       "      <td>Traditional</td>\n",
       "      <td>Online</td>\n",
       "      <td>Premium</td>\n",
       "      <td>High (Very health-conscious)</td>\n",
       "      <td>Casual (eg. At home)</td>\n",
       "      <td>200-250</td>\n",
       "    </tr>\n",
       "    <tr>\n",
       "      <th>25068</th>\n",
       "      <td>R25059</td>\n",
       "      <td>34</td>\n",
       "      <td>F</td>\n",
       "      <td>Urban</td>\n",
       "      <td>Working Professional</td>\n",
       "      <td>16L - 25L</td>\n",
       "      <td>0-2 times</td>\n",
       "      <td>Newcomer</td>\n",
       "      <td>Small (250 ml)</td>\n",
       "      <td>2 to 4</td>\n",
       "      <td>Brand Reputation</td>\n",
       "      <td>Exotic</td>\n",
       "      <td>Online</td>\n",
       "      <td>Eco-Friendly</td>\n",
       "      <td>High (Very health-conscious)</td>\n",
       "      <td>Active (eg. Sports, gym)</td>\n",
       "      <td>150-200</td>\n",
       "    </tr>\n",
       "  </tbody>\n",
       "</table>\n",
       "</div>"
      ],
      "text/plain": [
       "      respondent_id  age gender        zone            occupation  \\\n",
       "2309         R02309   27      M       Urban  Working Professional   \n",
       "2666         R02665   61      M       Metro          Entrepreneur   \n",
       "5151         R05149   21      M  Semi-Urban               Student   \n",
       "7794         R07791   25      M       Metro  Working Professional   \n",
       "8516         R08512   20      F       Metro               Student   \n",
       "11317        R11312   18      F       Urban               Student   \n",
       "19050        R19044   57      M  Semi-Urban               Retired   \n",
       "22412        R22405   26      M       Metro  Working Professional   \n",
       "23406        R23398   27      M       Urban  Working Professional   \n",
       "25068        R25059   34      F       Urban  Working Professional   \n",
       "\n",
       "      income_levels consume_frequency(weekly) current_brand  \\\n",
       "2309      16L - 25L                 3-4 times      Newcomer   \n",
       "2666      16L - 25L                 3-4 times   Established   \n",
       "5151            NaN                 3-4 times   Established   \n",
       "7794           <10L                 3-4 times      Newcomer   \n",
       "8516            NaN                 5-7 times   Established   \n",
       "11317           NaN                 0-2 times      Newcomer   \n",
       "19050          <10L                 3-4 times      Newcomer   \n",
       "22412     16L - 25L                 0-2 times      Newcomer   \n",
       "23406     10L - 15L                 5-7 times      Newcomer   \n",
       "25068     16L - 25L                 0-2 times      Newcomer   \n",
       "\n",
       "      preferable_consumption_size awareness_of_other_brands  \\\n",
       "2309               Small (250 ml)                    2 to 4   \n",
       "2666              Medium (500 ml)                   above 4   \n",
       "5151               Small (250 ml)                    2 to 4   \n",
       "7794              Medium (500 ml)                    2 to 4   \n",
       "8516                  Large (1 L)                    0 to 1   \n",
       "11317             Medium (500 ml)                    2 to 4   \n",
       "19050                 Large (1 L)                    2 to 4   \n",
       "22412              Small (250 ml)                    0 to 1   \n",
       "23406                 Large (1 L)                   above 4   \n",
       "25068              Small (250 ml)                    2 to 4   \n",
       "\n",
       "      reasons_for_choosing_brands flavor_preference purchase_channel  \\\n",
       "2309             Brand Reputation       Traditional           Online   \n",
       "2666             Brand Reputation            Exotic     Retail Store   \n",
       "5151                 Availability       Traditional     Retail Store   \n",
       "7794                 Availability            Exotic           Online   \n",
       "8516                        Price            Exotic           Online   \n",
       "11317                Availability            Exotic           Online   \n",
       "19050                       Price       Traditional     Retail Store   \n",
       "22412                       Price            Exotic           Online   \n",
       "23406                Availability       Traditional           Online   \n",
       "25068            Brand Reputation            Exotic           Online   \n",
       "\n",
       "      packaging_preference                       health_concerns  \\\n",
       "2309                Simple  Medium (Moderately health-conscious)   \n",
       "2666                Simple          High (Very health-conscious)   \n",
       "5151                Simple              Low (Not very concerned)   \n",
       "7794                Simple  Medium (Moderately health-conscious)   \n",
       "8516                Simple  Medium (Moderately health-conscious)   \n",
       "11317              Premium  Medium (Moderately health-conscious)   \n",
       "19050              Premium          High (Very health-conscious)   \n",
       "22412              Premium              Low (Not very concerned)   \n",
       "23406              Premium          High (Very health-conscious)   \n",
       "25068         Eco-Friendly          High (Very health-conscious)   \n",
       "\n",
       "      typical_consumption_situations price_range  \n",
       "2309            Social (eg. Parties)     150-200  \n",
       "2666        Active (eg. Sports, gym)     200-250  \n",
       "5151        Active (eg. Sports, gym)      50-100  \n",
       "7794            Casual (eg. At home)     100-150  \n",
       "8516            Casual (eg. At home)     100-150  \n",
       "11317           Social (eg. Parties)     100-150  \n",
       "19050           Social (eg. Parties)     150-200  \n",
       "22412       Active (eg. Sports, gym)     150-200  \n",
       "23406           Casual (eg. At home)     200-250  \n",
       "25068       Active (eg. Sports, gym)     150-200  "
      ]
     },
     "execution_count": 6,
     "metadata": {},
     "output_type": "execute_result"
    }
   ],
   "source": [
    "dupes"
   ]
  },
  {
   "cell_type": "code",
   "execution_count": 7,
   "id": "1c43f35e",
   "metadata": {},
   "outputs": [
    {
     "data": {
      "text/plain": [
       "respondent_id                        0\n",
       "age                                  0\n",
       "gender                               0\n",
       "zone                                 0\n",
       "occupation                           0\n",
       "income_levels                     8064\n",
       "consume_frequency(weekly)            8\n",
       "current_brand                        0\n",
       "preferable_consumption_size          0\n",
       "awareness_of_other_brands            0\n",
       "reasons_for_choosing_brands          0\n",
       "flavor_preference                    0\n",
       "purchase_channel                    10\n",
       "packaging_preference                 0\n",
       "health_concerns                      0\n",
       "typical_consumption_situations       0\n",
       "price_range                          0\n",
       "dtype: int64"
      ]
     },
     "execution_count": 7,
     "metadata": {},
     "output_type": "execute_result"
    }
   ],
   "source": [
    "df.isna().sum()"
   ]
  },
  {
   "cell_type": "markdown",
   "id": "282c7b16",
   "metadata": {},
   "source": [
    "#### Respondent_id is not null Let me check duplicate on this column."
   ]
  },
  {
   "cell_type": "code",
   "execution_count": 8,
   "id": "132defef",
   "metadata": {},
   "outputs": [
    {
     "data": {
      "text/plain": [
       "np.int64(10)"
      ]
     },
     "execution_count": 8,
     "metadata": {},
     "output_type": "execute_result"
    }
   ],
   "source": [
    "duplicate_respondent_Id = df['respondent_id'].duplicated().sum()\n",
    "type(duplicate_respondent_Id)\n",
    "duplicate_respondent_Id"
   ]
  },
  {
   "cell_type": "code",
   "execution_count": 9,
   "id": "22c74c44",
   "metadata": {},
   "outputs": [
    {
     "name": "stdout",
     "output_type": "stream",
     "text": [
      "['R02309' 'R02665' 'R05149' 'R07791' 'R08512' 'R11312' 'R19044' 'R22405'\n",
      " 'R23398' 'R25059']\n",
      "      respondent_id  age gender        zone            occupation  \\\n",
      "2308         R02309   27      M       Urban  Working Professional   \n",
      "2309         R02309   27      M       Urban  Working Professional   \n",
      "2665         R02665   61      M       Metro          Entrepreneur   \n",
      "2666         R02665   61      M       Metro          Entrepreneur   \n",
      "5150         R05149   21      M  Semi-Urban               Student   \n",
      "5151         R05149   21      M  Semi-Urban               Student   \n",
      "7793         R07791   25      M       Metro  Working Professional   \n",
      "7794         R07791   25      M       Metro  Working Professional   \n",
      "8516         R08512   20      F       Metro               Student   \n",
      "8515         R08512   20      F       Metro               Student   \n",
      "11316        R11312   18      F       Urban               Student   \n",
      "11317        R11312   18      F       Urban               Student   \n",
      "19049        R19044   57      M  Semi-Urban               Retired   \n",
      "19050        R19044   57      M  Semi-Urban               Retired   \n",
      "22411        R22405   26      M       Metro  Working Professional   \n",
      "22412        R22405   26      M       Metro  Working Professional   \n",
      "23405        R23398   27      M       Urban  Working Professional   \n",
      "23406        R23398   27      M       Urban  Working Professional   \n",
      "25067        R25059   34      F       Urban  Working Professional   \n",
      "25068        R25059   34      F       Urban  Working Professional   \n",
      "\n",
      "      income_levels consume_frequency(weekly) current_brand  \\\n",
      "2308      16L - 25L                 3-4 times      Newcomer   \n",
      "2309      16L - 25L                 3-4 times      Newcomer   \n",
      "2665      16L - 25L                 3-4 times   Established   \n",
      "2666      16L - 25L                 3-4 times   Established   \n",
      "5150            NaN                 3-4 times   Established   \n",
      "5151            NaN                 3-4 times   Established   \n",
      "7793           <10L                 3-4 times      Newcomer   \n",
      "7794           <10L                 3-4 times      Newcomer   \n",
      "8516            NaN                 5-7 times   Established   \n",
      "8515            NaN                 5-7 times   Established   \n",
      "11316           NaN                 0-2 times      Newcomer   \n",
      "11317           NaN                 0-2 times      Newcomer   \n",
      "19049          <10L                 3-4 times      Newcomer   \n",
      "19050          <10L                 3-4 times      Newcomer   \n",
      "22411     16L - 25L                 0-2 times      Newcomer   \n",
      "22412     16L - 25L                 0-2 times      Newcomer   \n",
      "23405     10L - 15L                 5-7 times      Newcomer   \n",
      "23406     10L - 15L                 5-7 times      Newcomer   \n",
      "25067     16L - 25L                 0-2 times      Newcomer   \n",
      "25068     16L - 25L                 0-2 times      Newcomer   \n",
      "\n",
      "      preferable_consumption_size awareness_of_other_brands  \\\n",
      "2308               Small (250 ml)                    2 to 4   \n",
      "2309               Small (250 ml)                    2 to 4   \n",
      "2665              Medium (500 ml)                   above 4   \n",
      "2666              Medium (500 ml)                   above 4   \n",
      "5150               Small (250 ml)                    2 to 4   \n",
      "5151               Small (250 ml)                    2 to 4   \n",
      "7793              Medium (500 ml)                    2 to 4   \n",
      "7794              Medium (500 ml)                    2 to 4   \n",
      "8516                  Large (1 L)                    0 to 1   \n",
      "8515                  Large (1 L)                    0 to 1   \n",
      "11316             Medium (500 ml)                    2 to 4   \n",
      "11317             Medium (500 ml)                    2 to 4   \n",
      "19049                 Large (1 L)                    2 to 4   \n",
      "19050                 Large (1 L)                    2 to 4   \n",
      "22411              Small (250 ml)                    0 to 1   \n",
      "22412              Small (250 ml)                    0 to 1   \n",
      "23405                 Large (1 L)                   above 4   \n",
      "23406                 Large (1 L)                   above 4   \n",
      "25067              Small (250 ml)                    2 to 4   \n",
      "25068              Small (250 ml)                    2 to 4   \n",
      "\n",
      "      reasons_for_choosing_brands flavor_preference purchase_channel  \\\n",
      "2308             Brand Reputation       Traditional           Online   \n",
      "2309             Brand Reputation       Traditional           Online   \n",
      "2665             Brand Reputation            Exotic     Retail Store   \n",
      "2666             Brand Reputation            Exotic     Retail Store   \n",
      "5150                 Availability       Traditional     Retail Store   \n",
      "5151                 Availability       Traditional     Retail Store   \n",
      "7793                 Availability            Exotic           Online   \n",
      "7794                 Availability            Exotic           Online   \n",
      "8516                        Price            Exotic           Online   \n",
      "8515                        Price            Exotic           Online   \n",
      "11316                Availability            Exotic           Online   \n",
      "11317                Availability            Exotic           Online   \n",
      "19049                       Price       Traditional     Retail Store   \n",
      "19050                       Price       Traditional     Retail Store   \n",
      "22411                       Price            Exotic           Online   \n",
      "22412                       Price            Exotic           Online   \n",
      "23405                Availability       Traditional           Online   \n",
      "23406                Availability       Traditional           Online   \n",
      "25067            Brand Reputation            Exotic           Online   \n",
      "25068            Brand Reputation            Exotic           Online   \n",
      "\n",
      "      packaging_preference                       health_concerns  \\\n",
      "2308                Simple  Medium (Moderately health-conscious)   \n",
      "2309                Simple  Medium (Moderately health-conscious)   \n",
      "2665                Simple          High (Very health-conscious)   \n",
      "2666                Simple          High (Very health-conscious)   \n",
      "5150                Simple              Low (Not very concerned)   \n",
      "5151                Simple              Low (Not very concerned)   \n",
      "7793                Simple  Medium (Moderately health-conscious)   \n",
      "7794                Simple  Medium (Moderately health-conscious)   \n",
      "8516                Simple  Medium (Moderately health-conscious)   \n",
      "8515                Simple  Medium (Moderately health-conscious)   \n",
      "11316              Premium  Medium (Moderately health-conscious)   \n",
      "11317              Premium  Medium (Moderately health-conscious)   \n",
      "19049              Premium          High (Very health-conscious)   \n",
      "19050              Premium          High (Very health-conscious)   \n",
      "22411              Premium              Low (Not very concerned)   \n",
      "22412              Premium              Low (Not very concerned)   \n",
      "23405              Premium          High (Very health-conscious)   \n",
      "23406              Premium          High (Very health-conscious)   \n",
      "25067         Eco-Friendly          High (Very health-conscious)   \n",
      "25068         Eco-Friendly          High (Very health-conscious)   \n",
      "\n",
      "      typical_consumption_situations price_range  \n",
      "2308            Social (eg. Parties)     150-200  \n",
      "2309            Social (eg. Parties)     150-200  \n",
      "2665        Active (eg. Sports, gym)     200-250  \n",
      "2666        Active (eg. Sports, gym)     200-250  \n",
      "5150        Active (eg. Sports, gym)      50-100  \n",
      "5151        Active (eg. Sports, gym)      50-100  \n",
      "7793            Casual (eg. At home)     100-150  \n",
      "7794            Casual (eg. At home)     100-150  \n",
      "8516            Casual (eg. At home)     100-150  \n",
      "8515            Casual (eg. At home)     100-150  \n",
      "11316           Social (eg. Parties)     100-150  \n",
      "11317           Social (eg. Parties)     100-150  \n",
      "19049           Social (eg. Parties)     150-200  \n",
      "19050           Social (eg. Parties)     150-200  \n",
      "22411       Active (eg. Sports, gym)     150-200  \n",
      "22412       Active (eg. Sports, gym)     150-200  \n",
      "23405           Casual (eg. At home)     200-250  \n",
      "23406           Casual (eg. At home)     200-250  \n",
      "25067       Active (eg. Sports, gym)     150-200  \n",
      "25068       Active (eg. Sports, gym)     150-200  \n"
     ]
    }
   ],
   "source": [
    "dupe_ids = df['respondent_id'][df['respondent_id'].duplicated()].unique()\n",
    "print(dupe_ids)\n",
    "\n",
    "dupes = df[df['respondent_id'].isin(dupe_ids)].sort_values('respondent_id')\n",
    "print(dupes)\n"
   ]
  },
  {
   "cell_type": "code",
   "execution_count": 10,
   "id": "a0a9ac1f",
   "metadata": {},
   "outputs": [],
   "source": [
    "df = df.drop_duplicates(subset=['respondent_id'], keep='first')\n"
   ]
  },
  {
   "cell_type": "code",
   "execution_count": 11,
   "id": "223e5ab7",
   "metadata": {},
   "outputs": [
    {
     "name": "stdout",
     "output_type": "stream",
     "text": [
      "Shape of Data Frame after drop duplicates (30000, 17)\n"
     ]
    }
   ],
   "source": [
    "print(f\"Shape of Data Frame after drop duplicates {df.shape}\")"
   ]
  },
  {
   "cell_type": "markdown",
   "id": "64a183fc",
   "metadata": {},
   "source": [
    "#### Outliter Detection on the Age."
   ]
  },
  {
   "cell_type": "code",
   "execution_count": 12,
   "id": "94efee22",
   "metadata": {},
   "outputs": [
    {
     "data": {
      "text/plain": [
       "count    30000.000000\n",
       "mean        33.048167\n",
       "std         13.438904\n",
       "min         18.000000\n",
       "25%         23.000000\n",
       "50%         31.000000\n",
       "75%         40.000000\n",
       "max        604.000000\n",
       "Name: age, dtype: float64"
      ]
     },
     "execution_count": 12,
     "metadata": {},
     "output_type": "execute_result"
    }
   ],
   "source": [
    "df.age.describe()"
   ]
  },
  {
   "cell_type": "code",
   "execution_count": 13,
   "id": "21d42554",
   "metadata": {},
   "outputs": [
    {
     "name": "stdout",
     "output_type": "stream",
     "text": [
      "Lower bound: 0, Upper bound: 65.5\n"
     ]
    }
   ],
   "source": [
    "Q1 = df['age'].quantile(0.25)\n",
    "Q3 = df['age'].quantile(0.75)\n",
    "IQR = Q3 - Q1\n",
    "\n",
    "lower_bound = max(0,Q1 - 1.5 * IQR)\n",
    "upper_bound = Q3 + 1.5 * IQR\n",
    "\n",
    "print(f\"Lower bound: {lower_bound}, Upper bound: {upper_bound}\")\n"
   ]
  },
  {
   "cell_type": "code",
   "execution_count": 14,
   "id": "4c8c719b",
   "metadata": {},
   "outputs": [
    {
     "name": "stdout",
     "output_type": "stream",
     "text": [
      "age\n",
      "67     106\n",
      "66      99\n",
      "69      98\n",
      "70      94\n",
      "68      87\n",
      "428      2\n",
      "453      1\n",
      "604      1\n",
      "457      1\n",
      "267      1\n",
      "285      1\n",
      "192      1\n",
      "203      1\n",
      "Name: count, dtype: int64\n"
     ]
    }
   ],
   "source": [
    "outliers = df[(df['age'] > upper_bound) | (df['age'] < lower_bound )] \n",
    "print(outliers['age'].value_counts())\n"
   ]
  },
  {
   "cell_type": "code",
   "execution_count": 15,
   "id": "e00bd38e",
   "metadata": {},
   "outputs": [
    {
     "data": {
      "image/png": "[encoded data removed]",
      "text/plain": [
       "<Figure size 640x480 with 1 Axes>"
      ]
     },
     "metadata": {},
     "output_type": "display_data"
    },
    {
     "data": {
      "image/png": "[encoded data removed]",
      "text/plain": [
       "<Figure size 640x480 with 1 Axes>"
      ]
     },
     "metadata": {},
     "output_type": "display_data"
    }
   ],
   "source": [
    "import matplotlib.pyplot as plt\n",
    "\n",
    "plt.boxplot(df['age'])\n",
    "plt.title(\"Age Boxplot\")\n",
    "plt.ylabel(\"Age\")\n",
    "plt.show()\n",
    "\n",
    "df['age'].hist(bins=30)\n",
    "plt.title(\"Age Distribution\")\n",
    "plt.xlabel(\"Age\")\n",
    "plt.ylabel(\"Frequency\")\n",
    "plt.show()\n"
   ]
  },
  {
   "cell_type": "code",
   "execution_count": 16,
   "id": "9eb5d646",
   "metadata": {},
   "outputs": [
    {
     "data": {
      "text/plain": [
       "(30000, 17)"
      ]
     },
     "execution_count": 16,
     "metadata": {},
     "output_type": "execute_result"
    }
   ],
   "source": [
    "df.shape"
   ]
  },
  {
   "cell_type": "code",
   "execution_count": 17,
   "id": "88464eb1",
   "metadata": {},
   "outputs": [
    {
     "data": {
      "text/plain": [
       "(9, 17)"
      ]
     },
     "execution_count": 17,
     "metadata": {},
     "output_type": "execute_result"
    }
   ],
   "source": [
    "df_age_above_70 = df[df['age'] > 70]\n",
    "df_age_above_70.shape"
   ]
  },
  {
   "cell_type": "code",
   "execution_count": 18,
   "id": "8945dab1",
   "metadata": {},
   "outputs": [
    {
     "data": {
      "text/plain": [
       "(29991, 17)"
      ]
     },
     "execution_count": 18,
     "metadata": {},
     "output_type": "execute_result"
    }
   ],
   "source": [
    "df_clean = df[~(df['age'] >70)]\n",
    "df_clean.shape\n"
   ]
  },
  {
   "cell_type": "code",
   "execution_count": 19,
   "id": "75fd0e10",
   "metadata": {},
   "outputs": [
    {
     "data": {
      "text/plain": [
       "respondent_id                        0\n",
       "age                                  0\n",
       "gender                               0\n",
       "zone                                 0\n",
       "occupation                           0\n",
       "income_levels                     8060\n",
       "consume_frequency(weekly)            8\n",
       "current_brand                        0\n",
       "preferable_consumption_size          0\n",
       "awareness_of_other_brands            0\n",
       "reasons_for_choosing_brands          0\n",
       "flavor_preference                    0\n",
       "purchase_channel                    10\n",
       "packaging_preference                 0\n",
       "health_concerns                      0\n",
       "typical_consumption_situations       0\n",
       "price_range                          0\n",
       "dtype: int64"
      ]
     },
     "execution_count": 19,
     "metadata": {},
     "output_type": "execute_result"
    }
   ],
   "source": [
    "df_clean.isna().sum()"
   ]
  },
  {
   "cell_type": "code",
   "execution_count": 20,
   "id": "6491e2fc",
   "metadata": {},
   "outputs": [
    {
     "data": {
      "text/plain": [
       "'3-4 times'"
      ]
     },
     "execution_count": 20,
     "metadata": {},
     "output_type": "execute_result"
    }
   ],
   "source": [
    "mode_consume_frequency = df_clean['consume_frequency(weekly)'].mode()[0]\n",
    "mode_consume_frequency"
   ]
  },
  {
   "cell_type": "code",
   "execution_count": 21,
   "id": "37efc502",
   "metadata": {},
   "outputs": [
    {
     "data": {
      "text/plain": [
       "'Online'"
      ]
     },
     "execution_count": 21,
     "metadata": {},
     "output_type": "execute_result"
    }
   ],
   "source": [
    "mode_purchase_channel = df_clean['purchase_channel'].mode()[0]\n",
    "mode_purchase_channel"
   ]
  },
  {
   "cell_type": "code",
   "execution_count": null,
   "id": "ec475236",
   "metadata": {},
   "outputs": [],
   "source": [
    "df_clean['consume_frequency(weekly)']= df_clean['consume_frequency(weekly)'].fillna(mode_consume_frequency)\n"
   ]
  },
  {
   "cell_type": "code",
   "execution_count": 23,
   "id": "58e91851",
   "metadata": {},
   "outputs": [
    {
     "data": {
      "text/plain": [
       "respondent_id                        0\n",
       "age                                  0\n",
       "gender                               0\n",
       "zone                                 0\n",
       "occupation                           0\n",
       "income_levels                     8060\n",
       "consume_frequency(weekly)            0\n",
       "current_brand                        0\n",
       "preferable_consumption_size          0\n",
       "awareness_of_other_brands            0\n",
       "reasons_for_choosing_brands          0\n",
       "flavor_preference                    0\n",
       "purchase_channel                    10\n",
       "packaging_preference                 0\n",
       "health_concerns                      0\n",
       "typical_consumption_situations       0\n",
       "price_range                          0\n",
       "dtype: int64"
      ]
     },
     "execution_count": 23,
     "metadata": {},
     "output_type": "execute_result"
    }
   ],
   "source": [
    "df_clean.isna().sum()"
   ]
  },
  {
   "cell_type": "code",
   "execution_count": null,
   "id": "4acca86b",
   "metadata": {},
   "outputs": [],
   "source": [
    "df_clean['purchase_channel'] = df_clean['purchase_channel'].fillna(mode_purchase_channel)"
   ]
  },
  {
   "cell_type": "code",
   "execution_count": 25,
   "id": "50befaf6",
   "metadata": {},
   "outputs": [
    {
     "data": {
      "text/plain": [
       "respondent_id                        0\n",
       "age                                  0\n",
       "gender                               0\n",
       "zone                                 0\n",
       "occupation                           0\n",
       "income_levels                     8060\n",
       "consume_frequency(weekly)            0\n",
       "current_brand                        0\n",
       "preferable_consumption_size          0\n",
       "awareness_of_other_brands            0\n",
       "reasons_for_choosing_brands          0\n",
       "flavor_preference                    0\n",
       "purchase_channel                     0\n",
       "packaging_preference                 0\n",
       "health_concerns                      0\n",
       "typical_consumption_situations       0\n",
       "price_range                          0\n",
       "dtype: int64"
      ]
     },
     "execution_count": 25,
     "metadata": {},
     "output_type": "execute_result"
    }
   ],
   "source": [
    "df_clean.isna().sum()"
   ]
  },
  {
   "cell_type": "code",
   "execution_count": null,
   "id": "8bb5849e",
   "metadata": {},
   "outputs": [],
   "source": [
    "df_clean['income_levels'] = df_clean['income_levels'].fillna('Not Reported')"
   ]
  },
  {
   "cell_type": "code",
   "execution_count": 27,
   "id": "b03b527a",
   "metadata": {},
   "outputs": [
    {
     "data": {
      "text/plain": [
       "respondent_id                     0\n",
       "age                               0\n",
       "gender                            0\n",
       "zone                              0\n",
       "occupation                        0\n",
       "income_levels                     0\n",
       "consume_frequency(weekly)         0\n",
       "current_brand                     0\n",
       "preferable_consumption_size       0\n",
       "awareness_of_other_brands         0\n",
       "reasons_for_choosing_brands       0\n",
       "flavor_preference                 0\n",
       "purchase_channel                  0\n",
       "packaging_preference              0\n",
       "health_concerns                   0\n",
       "typical_consumption_situations    0\n",
       "price_range                       0\n",
       "dtype: int64"
      ]
     },
     "execution_count": 27,
     "metadata": {},
     "output_type": "execute_result"
    }
   ],
   "source": [
    "df_clean.isna().sum()"
   ]
  },
  {
   "cell_type": "code",
   "execution_count": 28,
   "id": "39fb5da7",
   "metadata": {},
   "outputs": [
    {
     "data": {
      "text/plain": [
       "array(['Urban', 'Metro', 'Rural', 'Semi-Urban', 'Metor', 'urbna'],\n",
       "      dtype=object)"
      ]
     },
     "execution_count": 28,
     "metadata": {},
     "output_type": "execute_result"
    }
   ],
   "source": [
    "df_clean['zone'].unique()"
   ]
  },
  {
   "cell_type": "code",
   "execution_count": 29,
   "id": "1557270e",
   "metadata": {},
   "outputs": [
    {
     "data": {
      "text/plain": [
       "array(['Newcomer', 'Established', 'newcomer', 'Establishd'], dtype=object)"
      ]
     },
     "execution_count": 29,
     "metadata": {},
     "output_type": "execute_result"
    }
   ],
   "source": [
    "df_clean['current_brand'].unique()"
   ]
  },
  {
   "cell_type": "code",
   "execution_count": 30,
   "id": "8e87cfd1",
   "metadata": {},
   "outputs": [
    {
     "data": {
      "text/plain": [
       "zone\n",
       "Metro         11906\n",
       "Urban         10686\n",
       "Semi-Urban     5274\n",
       "Rural          2116\n",
       "urbna             5\n",
       "Metor             4\n",
       "Name: count, dtype: int64"
      ]
     },
     "execution_count": 30,
     "metadata": {},
     "output_type": "execute_result"
    }
   ],
   "source": [
    "df_clean['zone'].value_counts()"
   ]
  },
  {
   "cell_type": "code",
   "execution_count": 31,
   "id": "a124875b",
   "metadata": {},
   "outputs": [
    {
     "data": {
      "text/plain": [
       "current_brand\n",
       "Established    15442\n",
       "Newcomer       14499\n",
       "newcomer          30\n",
       "Establishd        20\n",
       "Name: count, dtype: int64"
      ]
     },
     "execution_count": 31,
     "metadata": {},
     "output_type": "execute_result"
    }
   ],
   "source": [
    "df_clean['current_brand'].value_counts()"
   ]
  },
  {
   "cell_type": "code",
   "execution_count": null,
   "id": "c9d41892",
   "metadata": {},
   "outputs": [],
   "source": [
    "zone_correction = {\n",
    "    \"Metor\":\"Metro\", \"urbna\":\"Urban\"\n",
    "}\n",
    "df_clean['zone'] = df_clean['zone'].replace(zone_correction)"
   ]
  },
  {
   "cell_type": "code",
   "execution_count": 33,
   "id": "974d52bc",
   "metadata": {},
   "outputs": [
    {
     "data": {
      "text/plain": [
       "array(['Urban', 'Metro', 'Rural', 'Semi-Urban'], dtype=object)"
      ]
     },
     "execution_count": 33,
     "metadata": {},
     "output_type": "execute_result"
    }
   ],
   "source": [
    "df_clean['zone'].unique()"
   ]
  },
  {
   "cell_type": "code",
   "execution_count": null,
   "id": "84235ff2",
   "metadata": {},
   "outputs": [],
   "source": [
    "current_brand_correction = {\n",
    "    \"newcomer\":\"Newcomer\", \"Establishd\":\"Established\"\n",
    "}\n",
    "df_clean['current_brand'] = df_clean['current_brand'].replace(current_brand_correction)"
   ]
  },
  {
   "cell_type": "code",
   "execution_count": 35,
   "id": "d6f68149",
   "metadata": {},
   "outputs": [
    {
     "data": {
      "text/plain": [
       "array(['Newcomer', 'Established'], dtype=object)"
      ]
     },
     "execution_count": 35,
     "metadata": {},
     "output_type": "execute_result"
    }
   ],
   "source": [
    "df_clean['current_brand'].unique()"
   ]
  },
  {
   "cell_type": "code",
   "execution_count": null,
   "id": "80a0a019",
   "metadata": {},
   "outputs": [],
   "source": [
    "def assign_age_group(age):\n",
    "\n",
    "    if 18 <= age <=25 :\n",
    "        return \"18-25\"\n",
    "    elif 26 <= age <= 35 :\n",
    "        return \"26-35\"\n",
    "    elif 36 <= age <=45 :\n",
    "        return \"36-45\"\n",
    "    elif 46 <= age <= 55 :\n",
    "        return \"46-55\"\n",
    "    elif 56 <= age <=70:\n",
    "        return \"56-70\"\n",
    "    else:\n",
    "        return \"70+\"\n",
    "\n",
    "# Apply function\n",
    "df_clean['age_group'] = df_clean['age'].apply(assign_age_group)\n",
    "\n",
    "cat_order = [\"18-25\",\"26-35\",\"36-45\",\"46-55\",\"56-70\",\"70+\"]\n",
    "\n",
    "df_clean[\"age_group\"] = pd.Categorical(df_clean['age_group'],\n",
    "                                       categories=cat_order,ordered=True)"
   ]
  },
  {
   "cell_type": "code",
   "execution_count": 37,
   "id": "f8cda2a8",
   "metadata": {},
   "outputs": [],
   "source": [
    "\n",
    "df_clean = df_clean.drop(columns=['age'])"
   ]
  },
  {
   "cell_type": "code",
   "execution_count": 38,
   "id": "f1e0ecf9",
   "metadata": {},
   "outputs": [
    {
     "name": "stdout",
     "output_type": "stream",
     "text": [
      "<class 'pandas.core.frame.DataFrame'>\n",
      "Index: 29991 entries, 0 to 30009\n",
      "Data columns (total 17 columns):\n",
      " #   Column                          Non-Null Count  Dtype   \n",
      "---  ------                          --------------  -----   \n",
      " 0   respondent_id                   29991 non-null  object  \n",
      " 1   gender                          29991 non-null  object  \n",
      " 2   zone                            29991 non-null  object  \n",
      " 3   occupation                      29991 non-null  object  \n",
      " 4   income_levels                   29991 non-null  object  \n",
      " 5   consume_frequency(weekly)       29991 non-null  object  \n",
      " 6   current_brand                   29991 non-null  object  \n",
      " 7   preferable_consumption_size     29991 non-null  object  \n",
      " 8   awareness_of_other_brands       29991 non-null  object  \n",
      " 9   reasons_for_choosing_brands     29991 non-null  object  \n",
      " 10  flavor_preference               29991 non-null  object  \n",
      " 11  purchase_channel                29991 non-null  object  \n",
      " 12  packaging_preference            29991 non-null  object  \n",
      " 13  health_concerns                 29991 non-null  object  \n",
      " 14  typical_consumption_situations  29991 non-null  object  \n",
      " 15  price_range                     29991 non-null  object  \n",
      " 16  age_group                       29991 non-null  category\n",
      "dtypes: category(1), object(16)\n",
      "memory usage: 3.9+ MB\n"
     ]
    }
   ],
   "source": [
    "df_clean.info()"
   ]
  },
  {
   "cell_type": "code",
   "execution_count": 39,
   "id": "48e80aee",
   "metadata": {},
   "outputs": [],
   "source": [
    "freq_map = {\n",
    "    \"0-2 times\":1,\n",
    "    \"3-4 times\":2,\n",
    "    \"5-7 times\":3\n",
    "}\n",
    "\n",
    "aware_map = {\n",
    "    \"0 to 1\": 1,\n",
    "    \"2 to 4\":2,\n",
    "    \"above 4\":3\n",
    "}\n",
    "\n",
    "def calculate_cf_ab(row):\n",
    "    f = freq_map.get(row['consume_frequency(weekly)'], 0)   # default 0 if not found\n",
    "    a = aware_map.get(row['awareness_of_other_brands'], 0)\n",
    "    \n",
    "    if a == 0:   # prevent division by zero\n",
    "        return None\n",
    "    \n",
    "    score = f / (a + f)\n",
    "    return round(score, 2)\n",
    "\n",
    "\n",
    "df_clean['cf_ab_score'] = df_clean.apply(calculate_cf_ab, axis=1)"
   ]
  },
  {
   "cell_type": "code",
   "execution_count": 40,
   "id": "37dedb94",
   "metadata": {},
   "outputs": [
    {
     "data": {
      "text/plain": [
       "count    29991.000000\n",
       "mean         0.537350\n",
       "std          0.141866\n",
       "min          0.250000\n",
       "25%          0.500000\n",
       "50%          0.500000\n",
       "75%          0.670000\n",
       "max          0.750000\n",
       "Name: cf_ab_score, dtype: float64"
      ]
     },
     "execution_count": 40,
     "metadata": {},
     "output_type": "execute_result"
    }
   ],
   "source": [
    "df_clean['cf_ab_score'].describe()"
   ]
  },
  {
   "cell_type": "code",
   "execution_count": 41,
   "id": "32b0f370",
   "metadata": {},
   "outputs": [],
   "source": [
    "zone_map = {\n",
    "    \"Urban\": 3, \"Metro\": 4,\"Rural\": 1,\"Semi-Urban\": 2\n",
    "}\n",
    "\n",
    "income_level_map = {\n",
    "     \"<10L\": 1,\"10L - 15L\": 2,\"16L - 25L\": 3, \"26L - 35L\": 4,\"> 35L\": 5,\"Not Reported\": 0\n",
    "}\n",
    "\n",
    "def calculate_zas_score(row):\n",
    "\n",
    "    zone_score = zone_map.get(row['zone'],1)\n",
    "    \n",
    "    income_score = income_level_map.get(row['income_levels'],1)\n",
    "\n",
    "    zas_score = zone_score * income_score\n",
    "\n",
    "    return zas_score"
   ]
  },
  {
   "cell_type": "code",
   "execution_count": 42,
   "id": "8f2b6971",
   "metadata": {},
   "outputs": [],
   "source": [
    "df_clean['zas_score'] = df_clean.apply(calculate_zas_score,axis=1)"
   ]
  },
  {
   "cell_type": "code",
   "execution_count": 43,
   "id": "d7f41672",
   "metadata": {},
   "outputs": [],
   "source": [
    "# (1) Optional: make key text columns categorical to save memory & speed comparisons\n",
    "cat_cols = ['current_brand', 'reasons_for_choosing_brands']\n",
    "for c in cat_cols:\n",
    "    df_clean[c] = df_clean[c].astype('category')\n",
    "\n",
    "# (2) Vectorized binary indicator:\n",
    "# bsi = 1 if current_brand != \"Established\" AND reason in {\"Price\",\"Quality\"}\n",
    "mask = (\n",
    "    (df_clean['current_brand'] != \"Established\") &\n",
    "    (df_clean['reasons_for_choosing_brands'].isin([\"Price\", \"Quality\"]))\n",
    ")\n",
    "df_clean['bsi'] = mask.astype('int8')   # int8 saves memory vs int64\n"
   ]
  },
  {
   "cell_type": "code",
   "execution_count": 44,
   "id": "82b9086d",
   "metadata": {},
   "outputs": [
    {
     "data": {
      "text/plain": [
       "age_group\n",
       "18-25    10468\n",
       "26-35     9093\n",
       "36-45     5972\n",
       "46-55     2966\n",
       "56-70     1492\n",
       "70+          0\n",
       "Name: count, dtype: int64"
      ]
     },
     "execution_count": 44,
     "metadata": {},
     "output_type": "execute_result"
    }
   ],
   "source": [
    "df_clean['age_group'].value_counts()"
   ]
  },
  {
   "cell_type": "code",
   "execution_count": 45,
   "id": "56171606",
   "metadata": {},
   "outputs": [
    {
     "data": {
      "text/html": [
       "<div>\n",
       "<style scoped>\n",
       "    .dataframe tbody tr th:only-of-type {\n",
       "        vertical-align: middle;\n",
       "    }\n",
       "\n",
       "    .dataframe tbody tr th {\n",
       "        vertical-align: top;\n",
       "    }\n",
       "\n",
       "    .dataframe thead th {\n",
       "        text-align: right;\n",
       "    }\n",
       "</style>\n",
       "<table border=\"1\" class=\"dataframe\">\n",
       "  <thead>\n",
       "    <tr style=\"text-align: right;\">\n",
       "      <th>occupation</th>\n",
       "      <th>Entrepreneur</th>\n",
       "      <th>Retired</th>\n",
       "      <th>Student</th>\n",
       "      <th>Working Professional</th>\n",
       "    </tr>\n",
       "    <tr>\n",
       "      <th>age_group</th>\n",
       "      <th></th>\n",
       "      <th></th>\n",
       "      <th></th>\n",
       "      <th></th>\n",
       "    </tr>\n",
       "  </thead>\n",
       "  <tbody>\n",
       "    <tr>\n",
       "      <th>18-25</th>\n",
       "      <td>535</td>\n",
       "      <td>0</td>\n",
       "      <td>7328</td>\n",
       "      <td>2605</td>\n",
       "    </tr>\n",
       "    <tr>\n",
       "      <th>26-35</th>\n",
       "      <td>1826</td>\n",
       "      <td>0</td>\n",
       "      <td>697</td>\n",
       "      <td>6570</td>\n",
       "    </tr>\n",
       "    <tr>\n",
       "      <th>36-45</th>\n",
       "      <td>1619</td>\n",
       "      <td>0</td>\n",
       "      <td>0</td>\n",
       "      <td>4353</td>\n",
       "    </tr>\n",
       "    <tr>\n",
       "      <th>46-55</th>\n",
       "      <td>799</td>\n",
       "      <td>0</td>\n",
       "      <td>0</td>\n",
       "      <td>2167</td>\n",
       "    </tr>\n",
       "    <tr>\n",
       "      <th>56-70</th>\n",
       "      <td>221</td>\n",
       "      <td>1130</td>\n",
       "      <td>35</td>\n",
       "      <td>106</td>\n",
       "    </tr>\n",
       "  </tbody>\n",
       "</table>\n",
       "</div>"
      ],
      "text/plain": [
       "occupation  Entrepreneur  Retired  Student  Working Professional\n",
       "age_group                                                       \n",
       "18-25                535        0     7328                  2605\n",
       "26-35               1826        0      697                  6570\n",
       "36-45               1619        0        0                  4353\n",
       "46-55                799        0        0                  2167\n",
       "56-70                221     1130       35                   106"
      ]
     },
     "execution_count": 45,
     "metadata": {},
     "output_type": "execute_result"
    }
   ],
   "source": [
    "import pandas as pd\n",
    "\n",
    "pd.crosstab(df_clean['age_group'], df_clean['occupation'])\n"
   ]
  },
  {
   "cell_type": "code",
   "execution_count": 46,
   "id": "59deb4ef",
   "metadata": {},
   "outputs": [],
   "source": [
    "df_clean = df_clean[~((df_clean['age_group'] == '56-70') & \n",
    "                      (df_clean['occupation'] == 'Student'))]\n"
   ]
  },
  {
   "cell_type": "code",
   "execution_count": 47,
   "id": "9afffef8",
   "metadata": {},
   "outputs": [
    {
     "data": {
      "text/html": [
       "<div>\n",
       "<style scoped>\n",
       "    .dataframe tbody tr th:only-of-type {\n",
       "        vertical-align: middle;\n",
       "    }\n",
       "\n",
       "    .dataframe tbody tr th {\n",
       "        vertical-align: top;\n",
       "    }\n",
       "\n",
       "    .dataframe thead th {\n",
       "        text-align: right;\n",
       "    }\n",
       "</style>\n",
       "<table border=\"1\" class=\"dataframe\">\n",
       "  <thead>\n",
       "    <tr style=\"text-align: right;\">\n",
       "      <th>occupation</th>\n",
       "      <th>Entrepreneur</th>\n",
       "      <th>Retired</th>\n",
       "      <th>Student</th>\n",
       "      <th>Working Professional</th>\n",
       "    </tr>\n",
       "    <tr>\n",
       "      <th>age_group</th>\n",
       "      <th></th>\n",
       "      <th></th>\n",
       "      <th></th>\n",
       "      <th></th>\n",
       "    </tr>\n",
       "  </thead>\n",
       "  <tbody>\n",
       "    <tr>\n",
       "      <th>18-25</th>\n",
       "      <td>535</td>\n",
       "      <td>0</td>\n",
       "      <td>7328</td>\n",
       "      <td>2605</td>\n",
       "    </tr>\n",
       "    <tr>\n",
       "      <th>26-35</th>\n",
       "      <td>1826</td>\n",
       "      <td>0</td>\n",
       "      <td>697</td>\n",
       "      <td>6570</td>\n",
       "    </tr>\n",
       "    <tr>\n",
       "      <th>36-45</th>\n",
       "      <td>1619</td>\n",
       "      <td>0</td>\n",
       "      <td>0</td>\n",
       "      <td>4353</td>\n",
       "    </tr>\n",
       "    <tr>\n",
       "      <th>46-55</th>\n",
       "      <td>799</td>\n",
       "      <td>0</td>\n",
       "      <td>0</td>\n",
       "      <td>2167</td>\n",
       "    </tr>\n",
       "    <tr>\n",
       "      <th>56-70</th>\n",
       "      <td>221</td>\n",
       "      <td>1130</td>\n",
       "      <td>0</td>\n",
       "      <td>106</td>\n",
       "    </tr>\n",
       "  </tbody>\n",
       "</table>\n",
       "</div>"
      ],
      "text/plain": [
       "occupation  Entrepreneur  Retired  Student  Working Professional\n",
       "age_group                                                       \n",
       "18-25                535        0     7328                  2605\n",
       "26-35               1826        0      697                  6570\n",
       "36-45               1619        0        0                  4353\n",
       "46-55                799        0        0                  2167\n",
       "56-70                221     1130        0                   106"
      ]
     },
     "execution_count": 47,
     "metadata": {},
     "output_type": "execute_result"
    }
   ],
   "source": [
    "pd.crosstab(df_clean['age_group'], df_clean['occupation'])"
   ]
  },
  {
   "cell_type": "code",
   "execution_count": 48,
   "id": "9ebe78d2",
   "metadata": {},
   "outputs": [
    {
     "name": "stdout",
     "output_type": "stream",
     "text": [
      "<class 'pandas.core.frame.DataFrame'>\n",
      "Index: 29956 entries, 0 to 30009\n",
      "Data columns (total 20 columns):\n",
      " #   Column                          Non-Null Count  Dtype   \n",
      "---  ------                          --------------  -----   \n",
      " 0   respondent_id                   29956 non-null  object  \n",
      " 1   gender                          29956 non-null  object  \n",
      " 2   zone                            29956 non-null  object  \n",
      " 3   occupation                      29956 non-null  object  \n",
      " 4   income_levels                   29956 non-null  object  \n",
      " 5   consume_frequency(weekly)       29956 non-null  object  \n",
      " 6   current_brand                   29956 non-null  category\n",
      " 7   preferable_consumption_size     29956 non-null  object  \n",
      " 8   awareness_of_other_brands       29956 non-null  object  \n",
      " 9   reasons_for_choosing_brands     29956 non-null  category\n",
      " 10  flavor_preference               29956 non-null  object  \n",
      " 11  purchase_channel                29956 non-null  object  \n",
      " 12  packaging_preference            29956 non-null  object  \n",
      " 13  health_concerns                 29956 non-null  object  \n",
      " 14  typical_consumption_situations  29956 non-null  object  \n",
      " 15  price_range                     29956 non-null  object  \n",
      " 16  age_group                       29956 non-null  category\n",
      " 17  cf_ab_score                     29956 non-null  float64 \n",
      " 18  zas_score                       29956 non-null  int64   \n",
      " 19  bsi                             29956 non-null  int8    \n",
      "dtypes: category(3), float64(1), int64(1), int8(1), object(14)\n",
      "memory usage: 4.0+ MB\n"
     ]
    }
   ],
   "source": [
    "df_clean.info()"
   ]
  },
  {
   "cell_type": "code",
   "execution_count": 49,
   "id": "45d20046",
   "metadata": {},
   "outputs": [
    {
     "data": {
      "text/plain": [
       "count    29956.000000\n",
       "mean         0.537360\n",
       "std          0.141876\n",
       "min          0.250000\n",
       "25%          0.500000\n",
       "50%          0.500000\n",
       "75%          0.670000\n",
       "max          0.750000\n",
       "Name: cf_ab_score, dtype: float64"
      ]
     },
     "execution_count": 49,
     "metadata": {},
     "output_type": "execute_result"
    }
   ],
   "source": [
    "df_clean['cf_ab_score'].describe()"
   ]
  },
  {
   "cell_type": "code",
   "execution_count": 50,
   "id": "13da08da",
   "metadata": {},
   "outputs": [
    {
     "data": {
      "text/plain": [
       "14"
      ]
     },
     "execution_count": 50,
     "metadata": {},
     "output_type": "execute_result"
    }
   ],
   "source": [
    "unique_record = df_clean['zas_score'].unique()\n",
    "unique_record.size"
   ]
  },
  {
   "cell_type": "code",
   "execution_count": 51,
   "id": "bb96d424",
   "metadata": {},
   "outputs": [
    {
     "name": "stdout",
     "output_type": "stream",
     "text": [
      "29956\n"
     ]
    }
   ],
   "source": [
    "rows = df_clean.shape[0]   # gives row count only\n",
    "print(rows) "
   ]
  },
  {
   "cell_type": "code",
   "execution_count": 52,
   "id": "11f1ea4d",
   "metadata": {},
   "outputs": [
    {
     "name": "stdout",
     "output_type": "stream",
     "text": [
      "29956\n"
     ]
    }
   ],
   "source": [
    "rows = len(df_clean)\n",
    "print(rows)\n"
   ]
  },
  {
   "cell_type": "code",
   "execution_count": 53,
   "id": "962e49e1",
   "metadata": {},
   "outputs": [
    {
     "data": {
      "text/plain": [
       "20796"
      ]
     },
     "execution_count": 53,
     "metadata": {},
     "output_type": "execute_result"
    }
   ],
   "source": [
    "df_bsi_zero = df_clean[df_clean['bsi'] == 0]\n",
    "df_bsi_zero.shape[0]"
   ]
  },
  {
   "cell_type": "code",
   "execution_count": 54,
   "id": "5b1abe6e",
   "metadata": {},
   "outputs": [
    {
     "data": {
      "text/html": [
       "<div>\n",
       "<style scoped>\n",
       "    .dataframe tbody tr th:only-of-type {\n",
       "        vertical-align: middle;\n",
       "    }\n",
       "\n",
       "    .dataframe tbody tr th {\n",
       "        vertical-align: top;\n",
       "    }\n",
       "\n",
       "    .dataframe thead th {\n",
       "        text-align: right;\n",
       "    }\n",
       "</style>\n",
       "<table border=\"1\" class=\"dataframe\">\n",
       "  <thead>\n",
       "    <tr style=\"text-align: right;\">\n",
       "      <th></th>\n",
       "      <th>respondent_id</th>\n",
       "      <th>gender</th>\n",
       "      <th>zone</th>\n",
       "      <th>occupation</th>\n",
       "      <th>income_levels</th>\n",
       "      <th>consume_frequency(weekly)</th>\n",
       "      <th>current_brand</th>\n",
       "      <th>preferable_consumption_size</th>\n",
       "      <th>awareness_of_other_brands</th>\n",
       "      <th>reasons_for_choosing_brands</th>\n",
       "      <th>flavor_preference</th>\n",
       "      <th>purchase_channel</th>\n",
       "      <th>packaging_preference</th>\n",
       "      <th>health_concerns</th>\n",
       "      <th>typical_consumption_situations</th>\n",
       "      <th>price_range</th>\n",
       "      <th>age_group</th>\n",
       "      <th>cf_ab_score</th>\n",
       "      <th>zas_score</th>\n",
       "      <th>bsi</th>\n",
       "    </tr>\n",
       "  </thead>\n",
       "  <tbody>\n",
       "    <tr>\n",
       "      <th>0</th>\n",
       "      <td>R00001</td>\n",
       "      <td>M</td>\n",
       "      <td>Urban</td>\n",
       "      <td>Working Professional</td>\n",
       "      <td>&lt;10L</td>\n",
       "      <td>3-4 times</td>\n",
       "      <td>Newcomer</td>\n",
       "      <td>Medium (500 ml)</td>\n",
       "      <td>0 to 1</td>\n",
       "      <td>Price</td>\n",
       "      <td>Traditional</td>\n",
       "      <td>Online</td>\n",
       "      <td>Simple</td>\n",
       "      <td>Medium (Moderately health-conscious)</td>\n",
       "      <td>Active (eg. Sports, gym)</td>\n",
       "      <td>100-150</td>\n",
       "      <td>26-35</td>\n",
       "      <td>0.67</td>\n",
       "      <td>3</td>\n",
       "      <td>1</td>\n",
       "    </tr>\n",
       "    <tr>\n",
       "      <th>1</th>\n",
       "      <td>R00002</td>\n",
       "      <td>F</td>\n",
       "      <td>Metro</td>\n",
       "      <td>Working Professional</td>\n",
       "      <td>&gt; 35L</td>\n",
       "      <td>5-7 times</td>\n",
       "      <td>Established</td>\n",
       "      <td>Medium (500 ml)</td>\n",
       "      <td>2 to 4</td>\n",
       "      <td>Quality</td>\n",
       "      <td>Exotic</td>\n",
       "      <td>Retail Store</td>\n",
       "      <td>Premium</td>\n",
       "      <td>Medium (Moderately health-conscious)</td>\n",
       "      <td>Social (eg. Parties)</td>\n",
       "      <td>200-250</td>\n",
       "      <td>46-55</td>\n",
       "      <td>0.60</td>\n",
       "      <td>20</td>\n",
       "      <td>0</td>\n",
       "    </tr>\n",
       "    <tr>\n",
       "      <th>2</th>\n",
       "      <td>R00003</td>\n",
       "      <td>F</td>\n",
       "      <td>Rural</td>\n",
       "      <td>Working Professional</td>\n",
       "      <td>&gt; 35L</td>\n",
       "      <td>3-4 times</td>\n",
       "      <td>Newcomer</td>\n",
       "      <td>Medium (500 ml)</td>\n",
       "      <td>2 to 4</td>\n",
       "      <td>Availability</td>\n",
       "      <td>Traditional</td>\n",
       "      <td>Retail Store</td>\n",
       "      <td>Premium</td>\n",
       "      <td>Medium (Moderately health-conscious)</td>\n",
       "      <td>Active (eg. Sports, gym)</td>\n",
       "      <td>200-250</td>\n",
       "      <td>36-45</td>\n",
       "      <td>0.50</td>\n",
       "      <td>5</td>\n",
       "      <td>0</td>\n",
       "    </tr>\n",
       "    <tr>\n",
       "      <th>3</th>\n",
       "      <td>R00004</td>\n",
       "      <td>F</td>\n",
       "      <td>Urban</td>\n",
       "      <td>Working Professional</td>\n",
       "      <td>16L - 25L</td>\n",
       "      <td>5-7 times</td>\n",
       "      <td>Newcomer</td>\n",
       "      <td>Medium (500 ml)</td>\n",
       "      <td>0 to 1</td>\n",
       "      <td>Brand Reputation</td>\n",
       "      <td>Exotic</td>\n",
       "      <td>Online</td>\n",
       "      <td>Eco-Friendly</td>\n",
       "      <td>Low (Not very concerned)</td>\n",
       "      <td>Active (eg. Sports, gym)</td>\n",
       "      <td>150-200</td>\n",
       "      <td>26-35</td>\n",
       "      <td>0.75</td>\n",
       "      <td>9</td>\n",
       "      <td>0</td>\n",
       "    </tr>\n",
       "    <tr>\n",
       "      <th>4</th>\n",
       "      <td>R00005</td>\n",
       "      <td>M</td>\n",
       "      <td>Metro</td>\n",
       "      <td>Student</td>\n",
       "      <td>Not Reported</td>\n",
       "      <td>3-4 times</td>\n",
       "      <td>Established</td>\n",
       "      <td>Medium (500 ml)</td>\n",
       "      <td>0 to 1</td>\n",
       "      <td>Availability</td>\n",
       "      <td>Traditional</td>\n",
       "      <td>Online</td>\n",
       "      <td>Premium</td>\n",
       "      <td>Medium (Moderately health-conscious)</td>\n",
       "      <td>Active (eg. Sports, gym)</td>\n",
       "      <td>50-100</td>\n",
       "      <td>18-25</td>\n",
       "      <td>0.67</td>\n",
       "      <td>0</td>\n",
       "      <td>0</td>\n",
       "    </tr>\n",
       "  </tbody>\n",
       "</table>\n",
       "</div>"
      ],
      "text/plain": [
       "  respondent_id gender   zone            occupation income_levels  \\\n",
       "0        R00001      M  Urban  Working Professional          <10L   \n",
       "1        R00002      F  Metro  Working Professional         > 35L   \n",
       "2        R00003      F  Rural  Working Professional         > 35L   \n",
       "3        R00004      F  Urban  Working Professional     16L - 25L   \n",
       "4        R00005      M  Metro               Student  Not Reported   \n",
       "\n",
       "  consume_frequency(weekly) current_brand preferable_consumption_size  \\\n",
       "0                 3-4 times      Newcomer             Medium (500 ml)   \n",
       "1                 5-7 times   Established             Medium (500 ml)   \n",
       "2                 3-4 times      Newcomer             Medium (500 ml)   \n",
       "3                 5-7 times      Newcomer             Medium (500 ml)   \n",
       "4                 3-4 times   Established             Medium (500 ml)   \n",
       "\n",
       "  awareness_of_other_brands reasons_for_choosing_brands flavor_preference  \\\n",
       "0                    0 to 1                       Price       Traditional   \n",
       "1                    2 to 4                     Quality            Exotic   \n",
       "2                    2 to 4                Availability       Traditional   \n",
       "3                    0 to 1            Brand Reputation            Exotic   \n",
       "4                    0 to 1                Availability       Traditional   \n",
       "\n",
       "  purchase_channel packaging_preference                       health_concerns  \\\n",
       "0           Online               Simple  Medium (Moderately health-conscious)   \n",
       "1     Retail Store              Premium  Medium (Moderately health-conscious)   \n",
       "2     Retail Store              Premium  Medium (Moderately health-conscious)   \n",
       "3           Online         Eco-Friendly              Low (Not very concerned)   \n",
       "4           Online              Premium  Medium (Moderately health-conscious)   \n",
       "\n",
       "  typical_consumption_situations price_range age_group  cf_ab_score  \\\n",
       "0       Active (eg. Sports, gym)     100-150     26-35         0.67   \n",
       "1           Social (eg. Parties)     200-250     46-55         0.60   \n",
       "2       Active (eg. Sports, gym)     200-250     36-45         0.50   \n",
       "3       Active (eg. Sports, gym)     150-200     26-35         0.75   \n",
       "4       Active (eg. Sports, gym)      50-100     18-25         0.67   \n",
       "\n",
       "   zas_score  bsi  \n",
       "0          3    1  \n",
       "1         20    0  \n",
       "2          5    0  \n",
       "3          9    0  \n",
       "4          0    0  "
      ]
     },
     "execution_count": 54,
     "metadata": {},
     "output_type": "execute_result"
    }
   ],
   "source": [
    "df_clean.head()"
   ]
  },
  {
   "cell_type": "code",
   "execution_count": 56,
   "id": "74d55695",
   "metadata": {},
   "outputs": [
    {
     "name": "stdout",
     "output_type": "stream",
     "text": [
      "<class 'pandas.core.frame.DataFrame'>\n",
      "Index: 29956 entries, 0 to 30009\n",
      "Data columns (total 20 columns):\n",
      " #   Column                          Non-Null Count  Dtype   \n",
      "---  ------                          --------------  -----   \n",
      " 0   respondent_id                   29956 non-null  object  \n",
      " 1   gender                          29956 non-null  object  \n",
      " 2   zone                            29956 non-null  object  \n",
      " 3   occupation                      29956 non-null  object  \n",
      " 4   income_levels                   29956 non-null  object  \n",
      " 5   consume_frequency(weekly)       29956 non-null  object  \n",
      " 6   current_brand                   29956 non-null  category\n",
      " 7   preferable_consumption_size     29956 non-null  object  \n",
      " 8   awareness_of_other_brands       29956 non-null  object  \n",
      " 9   reasons_for_choosing_brands     29956 non-null  category\n",
      " 10  flavor_preference               29956 non-null  object  \n",
      " 11  purchase_channel                29956 non-null  object  \n",
      " 12  packaging_preference            29956 non-null  object  \n",
      " 13  health_concerns                 29956 non-null  object  \n",
      " 14  typical_consumption_situations  29956 non-null  object  \n",
      " 15  price_range                     29956 non-null  object  \n",
      " 16  age_group                       29956 non-null  category\n",
      " 17  cf_ab_score                     29956 non-null  float64 \n",
      " 18  zas_score                       29956 non-null  int64   \n",
      " 19  bsi                             29956 non-null  int8    \n",
      "dtypes: category(3), float64(1), int64(1), int8(1), object(14)\n",
      "memory usage: 4.0+ MB\n"
     ]
    }
   ],
   "source": [
    "df_clean.info()"
   ]
  },
  {
   "cell_type": "code",
   "execution_count": null,
   "id": "0ff7f3be",
   "metadata": {},
   "outputs": [],
   "source": [
    "df_clean.to_csv(\"../data/survey_cleaned.csv\", index=False)"
   ]
  }
 ],
 "metadata": {
  "kernelspec": {
   "display_name": ".venv",
   "language": "python",
   "name": "python3"
  },
  "language_info": {
   "codemirror_mode": {
    "name": "ipython",
    "version": 3
   },
   "file_extension": ".py",
   "mimetype": "text/x-python",
   "name": "python",
   "nbconvert_exporter": "python",
   "pygments_lexer": "ipython3",
   "version": "3.11.9"
  }
 },
 "nbformat": 4,
 "nbformat_minor": 5
}

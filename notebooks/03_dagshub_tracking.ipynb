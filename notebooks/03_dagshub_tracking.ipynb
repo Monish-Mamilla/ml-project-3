{
 "cells": [
  {
   "cell_type": "markdown",
   "id": "c9e32291",
   "metadata": {},
   "source": [
    "# 03 — DagsHub Tracking\n",
    "\n",
    "This notebook loads the cleaned dataset (`data/processed/survey_cleaned.csv`), rebuilds the preprocessing pipeline, trains multiple models, and logs runs & registered models to **DagsHub's MLflow**.\n",
    "\n",
    "**Prereqs**\n",
    "\n",
    "- You have already created `survey_cleaned.csv` in `01_eda.ipynb`.\n",
    "\n",
    "- Place the file under `data/processed/survey_cleaned.csv`.\n",
    "\n",
    "- You have a DagsHub repo with MLflow enabled and a Personal Access Token (PAT).\n",
    "\n"
   ]
  },
  {
   "cell_type": "markdown",
   "id": "a70ee61f",
   "metadata": {},
   "source": [
    "## 0) Environment & installs"
   ]
  },
  {
   "cell_type": "code",
   "execution_count": null,
   "id": "6363c8c9",
   "metadata": {},
   "outputs": [],
   "source": [
    "# If needed, install these (uncomment)\n",
    "# !pip install mlflow xgboost\n",
    "\n",
    "import os, json, tempfile\n",
    "import numpy as np\n",
    "import pandas as pd\n",
    "import matplotlib.pyplot as plt\n",
    "\n",
    "from sklearn.model_selection import train_test_split\n",
    "from sklearn.compose import ColumnTransformer\n",
    "from sklearn.preprocessing import OrdinalEncoder, OneHotEncoder, LabelEncoder\n",
    "from sklearn.pipeline import Pipeline\n",
    "from sklearn.metrics import accuracy_score, classification_report, confusion_matrix\n",
    "\n",
    "from sklearn.linear_model import LogisticRegression\n",
    "from sklearn.ensemble import RandomForestClassifier, GradientBoostingClassifier\n",
    "from sklearn.svm import SVC\n",
    "from sklearn.naive_bayes import GaussianNB\n",
    "\n",
    "from xgboost import XGBClassifier\n",
    "\n",
    "import mlflow\n",
    "import mlflow.sklearn\n",
    "import mlflow.xgboost\n",
    "\n",
    "print('Versions -> pandas', pd.__version__, '| sklearn loaded | mlflow', mlflow.__version__)"
   ]
  },
  {
   "cell_type": "markdown",
   "id": "67257283",
   "metadata": {},
   "source": [
    "## 1) Configure DagsHub MLflow Tracking"
   ]
  },
  {
   "cell_type": "code",
   "execution_count": null,
   "id": "20364f4e",
   "metadata": {},
   "outputs": [],
   "source": [
    "from dotenv import load_dotenv, find_dotenv\n",
    "import os\n",
    "\n",
    "# Load .env from project root (works even if notebook is in notebooks/)\n",
    "load_dotenv(find_dotenv())\n",
    "\n",
    "# Read variables\n",
    "MLFLOW_TRACKING_URI = os.getenv(\"MLFLOW_TRACKING_URI\")\n",
    "MLFLOW_TRACKING_USERNAME = os.getenv(\"MLFLOW_TRACKING_USERNAME\")\n",
    "MLFLOW_TRACKING_PASSWORD = os.getenv(\"MLFLOW_TRACKING_PASSWORD\")\n",
    "\n",
    "print(\"URI:\", MLFLOW_TRACKING_URI)\n",
    "print(\"User:\", MLFLOW_TRACKING_USERNAME)\n",
    "print(\"Token set:\", bool(MLFLOW_TRACKING_PASSWORD))\n",
    "\n",
    "# Make sure MLflow sees them\n",
    "import mlflow\n",
    "mlflow.set_tracking_uri(MLFLOW_TRACKING_URI)\n",
    "mlflow.set_experiment(\"price_range_models\")\n"
   ]
  },
  {
   "cell_type": "code",
   "execution_count": null,
   "id": "6b27e926",
   "metadata": {},
   "outputs": [],
   "source": [
    "import mlflow\n",
    "print(\"mlflow version:\", mlflow.__version__)\n",
    "\n",
    "mlflow.set_tracking_uri(os.environ[\"MLFLOW_TRACKING_URI\"])\n",
    "mlflow.set_experiment(\"price_range_models\")\n",
    "\n",
    "with mlflow.start_run(run_name=\"ping\"):\n",
    "    mlflow.log_metric(\"ping\", 1.0)\n",
    "print(\"Run OK\")\n"
   ]
  },
  {
   "cell_type": "markdown",
   "id": "af006815",
   "metadata": {},
   "source": [
    "## 2) Load cleaned dataset"
   ]
  },
  {
   "cell_type": "code",
   "execution_count": null,
   "id": "fab8c126",
   "metadata": {},
   "outputs": [],
   "source": [
    "DATA_PATH = '../data/processed/survey_cleaned.csv'  # updated path\n",
    "df = pd.read_csv(DATA_PATH)\n",
    "print(df.shape)\n",
    "df.head()"
   ]
  },
  {
   "cell_type": "markdown",
   "id": "cc889aa6",
   "metadata": {},
   "source": [
    "## 3) Define preprocessing pipeline (must match 02_model_development)"
   ]
  },
  {
   "cell_type": "code",
   "execution_count": null,
   "id": "6e15ee2d",
   "metadata": {},
   "outputs": [],
   "source": [
    "# Target and columns\n",
    "target_col = 'price_range'\n",
    "drop_cols = ['respondent_id', target_col]\n",
    "\n",
    "X = df.drop(columns=drop_cols)\n",
    "y = df[target_col]\n",
    "\n",
    "# Columns that you wanted ordinal/label-encoding\n",
    "label_cols_explicit = ['age_group', 'consume_frequency(weekly)']\n",
    "label_cols_auto     = ['income_levels', 'health_concerns', 'preferable_consumption_size']\n",
    "\n",
    "# Everything else categorical -> One-Hot Encode\n",
    "all_cats = X.select_dtypes(include=['object', 'category']).columns.tolist()\n",
    "nominal_cols = [c for c in all_cats if c not in (label_cols_explicit + label_cols_auto)]\n",
    "\n",
    "# Numeric passthrough (if present)\n",
    "numeric_cols = [c for c in X.columns if c not in (label_cols_explicit + label_cols_auto + nominal_cols)]\n",
    "\n",
    "print('Ordinal explicit :', label_cols_explicit)\n",
    "print('Ordinal auto     :', label_cols_auto)\n",
    "print('One-hot nominal  :', nominal_cols)\n",
    "print('Numeric passthru :', numeric_cols)"
   ]
  },
  {
   "cell_type": "code",
   "execution_count": null,
   "id": "8d63162b",
   "metadata": {},
   "outputs": [],
   "source": [
    "# Ordinal categories (explicit) — adjust if your labels differ\n",
    "age_group_order = [\"18-25\", \"26-35\", \"36-45\", \"46-55\", \"56-70\", \"70+\"]\n",
    "consume_freq_order = [\"0-2 times\", \"3-4 times\", \"5-7 times\"]\n",
    "\n",
    "ord_explicit = OrdinalEncoder(\n",
    "    categories=[age_group_order, consume_freq_order],\n",
    "    handle_unknown='use_encoded_value',\n",
    "    unknown_value=-1\n",
    ")\n",
    "\n",
    "ord_auto = OrdinalEncoder(\n",
    "    categories='auto',\n",
    "    handle_unknown='use_encoded_value',\n",
    "    unknown_value=-1\n",
    ")\n",
    "\n",
    "ohe = OneHotEncoder(handle_unknown='ignore', sparse_output=False)\n",
    "\n",
    "preprocessor = ColumnTransformer(\n",
    "    transformers=[\n",
    "        ('ord_explicit', ord_explicit, label_cols_explicit),\n",
    "        ('ord_auto',     ord_auto,     label_cols_auto),\n",
    "        ('onehot',       ohe,          nominal_cols),\n",
    "        # numeric columns pass through via remainder\n",
    "    ],\n",
    "    remainder='passthrough'\n",
    ")\n",
    "\n",
    "preprocessor"
   ]
  },
  {
   "cell_type": "markdown",
   "id": "f09ed5b7",
   "metadata": {},
   "source": [
    "## 4) Encode target and train/test split"
   ]
  },
  {
   "cell_type": "code",
   "execution_count": null,
   "id": "5d3e2248",
   "metadata": {},
   "outputs": [],
   "source": [
    "# Encode y (price_range) once for consistent classes across models\n",
    "le_y = LabelEncoder()\n",
    "y_enc = le_y.fit_transform(y)\n",
    "\n",
    "X_train, X_test, y_train, y_test = train_test_split(\n",
    "    X, y_enc, test_size=0.25, random_state=42, stratify=y_enc\n",
    ")\n",
    "\n",
    "print('Train:', X_train.shape, ' Test:', X_test.shape)\n",
    "print('Classes:', list(le_y.classes_))"
   ]
  },
  {
   "cell_type": "markdown",
   "id": "c2e38e18",
   "metadata": {},
   "source": [
    "## 5) Helper functions for MLflow logging"
   ]
  },
  {
   "cell_type": "code",
   "execution_count": null,
   "id": "be9851c6",
   "metadata": {},
   "outputs": [],
   "source": [
    "def log_confusion_matrix(y_true, y_pred, labels, title):\n",
    "    cm = confusion_matrix(y_true, y_pred, labels=range(len(labels)))\n",
    "    fig, ax = plt.subplots()\n",
    "    im = ax.imshow(cm, aspect='auto')\n",
    "    ax.figure.colorbar(im, ax=ax)\n",
    "    ax.set_xticks(range(len(labels))); ax.set_yticks(range(len(labels)))\n",
    "    ax.set_xticklabels(labels, rotation=45, ha='right'); ax.set_yticklabels(labels)\n",
    "    ax.set_title(title); ax.set_xlabel('Predicted'); ax.set_ylabel('True')\n",
    "    fig.tight_layout()\n",
    "    tmp = tempfile.NamedTemporaryFile(suffix='.png', delete=False)\n",
    "    plt.savefig(tmp.name, bbox_inches='tight'); plt.close(fig)\n",
    "    mlflow.log_artifact(tmp.name, artifact_path='plots')\n",
    "\n",
    "def train_and_log(name, estimator):\n",
    "    mlflow.sklearn.autolog(disable=False, log_input_examples=False)\n",
    "    mlflow.xgboost.autolog(disable=False)\n",
    "\n",
    "    with mlflow.start_run(run_name=name):\n",
    "        pipe = Pipeline([('prep', preprocessor), ('model', estimator)])\n",
    "        pipe.fit(X_train, y_train)\n",
    "\n",
    "        y_pred = pipe.predict(X_test)\n",
    "        acc = accuracy_score(y_test, y_pred)\n",
    "        report = classification_report(\n",
    "            le_y.inverse_transform(y_test),\n",
    "            le_y.inverse_transform(y_pred),\n",
    "            target_names=le_y.classes_,\n",
    "            output_dict=True\n",
    "        )\n",
    "\n",
    "        mlflow.log_metric('accuracy', acc)\n",
    "        mlflow.log_text(json.dumps(report, indent=2), 'reports/classification_report.json')\n",
    "        log_confusion_matrix(y_test, y_pred, labels=list(le_y.classes_), title=f'Confusion Matrix — {name}')\n",
    "\n",
    "        model_name = f'price-range-{name}'\n",
    "        mlflow.sklearn.log_model(\n",
    "            sk_model=pipe,\n",
    "            artifact_path='model',\n",
    "            registered_model_name=model_name\n",
    "        )\n",
    "\n",
    "        mlflow.set_tag('framework', 'sklearn')\n",
    "        mlflow.set_tag('dataset', 'survey_cleaned')\n",
    "        mlflow.set_tag('target', 'price_range')\n",
    "        mlflow.set_tag('algo', name)\n",
    "\n",
    "        print(f'{name}: accuracy={acc:.4f} | registered as {model_name}')"
   ]
  },
  {
   "cell_type": "markdown",
   "id": "6155951e",
   "metadata": {},
   "source": [
    "## 6) Train and log multiple models"
   ]
  },
  {
   "cell_type": "code",
   "execution_count": null,
   "id": "b0acccd3",
   "metadata": {},
   "outputs": [],
   "source": [
    "models = {\n",
    "    'LogReg': LogisticRegression(max_iter=1000, n_jobs=-1),\n",
    "    'RF': RandomForestClassifier(n_estimators=300, random_state=42, n_jobs=-1),\n",
    "    'GB': GradientBoostingClassifier(random_state=42),\n",
    "    'SVM': SVC(kernel='rbf', probability=False, random_state=42),\n",
    "    'GNB': GaussianNB(),\n",
    "    'XGBoost': XGBClassifier(\n",
    "        n_estimators=200, learning_rate=0.1, max_depth=6,\n",
    "        subsample=0.8, colsample_bytree=0.8,\n",
    "        random_state=42, n_jobs=-1, eval_metric='mlogloss'\n",
    "    )\n",
    "}\n",
    "\n",
    "for name, est in models.items():\n",
    "    train_and_log(name, est)"
   ]
  },
  {
   "cell_type": "markdown",
   "id": "dba9d2b6",
   "metadata": {},
   "source": [
    "## 7) View results in DagsHub\n",
    "\n",
    "Open your MLflow UI:\n",
    "```\n",
    "https://dagshub.com/<USERNAME>/<REPO>.mlflow\n",
    "```\n",
    "- **Experiments** → each model run with metrics and artifacts\n",
    "- **Models** → each registered model (e.g., `price-range-RF`) → promote a version to Staging/Production\n",
    "\n",
    "To serve a production model locally:\n",
    "```bash\n",
    "mlflow models serve -m \"models:/price-range-RF@Production\" -p 8080 --env-manager=local\n",
    "```"
   ]
  }
 ],
 "metadata": {
  "kernelspec": {
   "display_name": ".venv",
   "language": "python",
   "name": "python3"
  },
  "language_info": {
   "codemirror_mode": {
    "name": "ipython",
    "version": 3
   },
   "file_extension": ".py",
   "mimetype": "text/x-python",
   "name": "python",
   "nbconvert_exporter": "python",
   "pygments_lexer": "ipython3",
   "version": "3.11.9"
  }
 },
 "nbformat": 4,
 "nbformat_minor": 5
}
